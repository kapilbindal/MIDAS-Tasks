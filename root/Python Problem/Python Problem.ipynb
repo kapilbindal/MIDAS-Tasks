{
 "cells": [
  {
   "cell_type": "markdown",
   "metadata": {},
   "source": [
    "### Import Libraries"
   ]
  },
  {
   "cell_type": "code",
   "execution_count": 177,
   "metadata": {},
   "outputs": [],
   "source": [
    "import tweepy\n",
    "import json\n",
    "import pandas as pd\n",
    "import numpy as np"
   ]
  },
  {
   "cell_type": "markdown",
   "metadata": {},
   "source": [
    "### Defining Keys  and Authorising "
   ]
  },
  {
   "cell_type": "code",
   "execution_count": 178,
   "metadata": {},
   "outputs": [],
   "source": [
    "consumerKey = 'vma3vTUN2MF8cxHtHhyZVYhLO'\n",
    "consumerSecret = 'M2mJphr9OF0IBq7ZfScopV9bqpFkLuVLyG5IQnN44GrseRRFGK'\n",
    "accessToken = '2578792434-lZEFkEGvB0mp6muwhbdKLu5ee8LFbeBMW9nmQip'\n",
    "accessSecret = 'E55wVPWC9clRpbNgF7NnLEN8O9iSWtmIJ2wiIViRfJd9m'"
   ]
  },
  {
   "cell_type": "code",
   "execution_count": 179,
   "metadata": {},
   "outputs": [],
   "source": [
    "auth = tweepy.OAuthHandler(consumerKey,consumerSecret)\n",
    "auth.set_access_token(accessToken,accessSecret)\n",
    "api = tweepy.API(auth)"
   ]
  },
  {
   "cell_type": "markdown",
   "metadata": {},
   "source": [
    "### Method to Fetch Tweets"
   ]
  },
  {
   "cell_type": "code",
   "execution_count": 190,
   "metadata": {},
   "outputs": [],
   "source": [
    "def getTweets(username):\n",
    "    tweets = api.user_timeline(id =username, tweet_mode = 'extended',count = 500)\n",
    "    return tweets"
   ]
  },
  {
   "cell_type": "markdown",
   "metadata": {},
   "source": [
    "### Saving data to JSON File"
   ]
  },
  {
   "cell_type": "code",
   "execution_count": null,
   "metadata": {},
   "outputs": [],
   "source": [
    "tweets = getTweets(\"midasIIITD\")\n",
    "tweetsDump = []\n",
    "for tweet in tweets:\n",
    "    tweetsDump.append(tweet._json)"
   ]
  },
  {
   "cell_type": "code",
   "execution_count": null,
   "metadata": {},
   "outputs": [],
   "source": [
    "with open('tweets.json', 'w') as outfile:\n",
    "    json.dump(tweetsDump, outfile)"
   ]
  },
  {
   "cell_type": "markdown",
   "metadata": {},
   "source": [
    "### Reading data from JSON file"
   ]
  },
  {
   "cell_type": "code",
   "execution_count": 183,
   "metadata": {},
   "outputs": [],
   "source": [
    "with open('tweets.json') as f:\n",
    "    tweetsData = json.load(f)"
   ]
  },
  {
   "cell_type": "code",
   "execution_count": 184,
   "metadata": {},
   "outputs": [
    {
     "name": "stdout",
     "output_type": "stream",
     "text": [
      "dict_keys(['created_at', 'id', 'id_str', 'full_text', 'truncated', 'display_text_range', 'entities', 'source', 'in_reply_to_status_id', 'in_reply_to_status_id_str', 'in_reply_to_user_id', 'in_reply_to_user_id_str', 'in_reply_to_screen_name', 'user', 'geo', 'coordinates', 'place', 'contributors', 'retweeted_status', 'is_quote_status', 'retweet_count', 'favorite_count', 'favorited', 'retweeted', 'possibly_sensitive', 'lang'])\n"
     ]
    }
   ],
   "source": [
    "print(tweetsData[0].keys())\n"
   ]
  },
  {
   "cell_type": "markdown",
   "metadata": {},
   "source": [
    "### Making Lists to store the Counts"
   ]
  },
  {
   "cell_type": "code",
   "execution_count": 185,
   "metadata": {},
   "outputs": [],
   "source": [
    "texts = []\n",
    "dateTime = []\n",
    "likesCount = []\n",
    "retweetsCount = []\n",
    "photosCount = []"
   ]
  },
  {
   "cell_type": "code",
   "execution_count": 186,
   "metadata": {},
   "outputs": [],
   "source": [
    "for tweet in tweetsData:\n",
    "    texts.append(tweet['full_text'])\n",
    "    dateTime.append(tweet['created_at'])\n",
    "    likesCount.append(tweet['favorite_count'])\n",
    "    retweetsCount.append(tweet['retweet_count'])\n",
    "    numImages = 0;\n",
    "    if 'media' in tweet['entities']:\n",
    "        numImages = int(len(tweet['extended_entities']['media']))\n",
    "    if(numImages > 0):\n",
    "        photosCount.append(numImages)\n",
    "    else:\n",
    "        photosCount.append('None')   "
   ]
  },
  {
   "cell_type": "markdown",
   "metadata": {},
   "source": [
    "### Tabular Data"
   ]
  },
  {
   "cell_type": "code",
   "execution_count": 187,
   "metadata": {},
   "outputs": [],
   "source": [
    "df = pd.DataFrame()"
   ]
  },
  {
   "cell_type": "code",
   "execution_count": 188,
   "metadata": {},
   "outputs": [],
   "source": [
    "df['Text'] = texts\n",
    "df['Date and Time'] = dateTime\n",
    "df['Likes'] = likesCount\n",
    "df['Retweets'] = retweetsCount\n",
    "df['No. of Images'] = photosCount"
   ]
  },
  {
   "cell_type": "code",
   "execution_count": 189,
   "metadata": {},
   "outputs": [
    {
     "data": {
      "text/html": [
       "<div>\n",
       "<style scoped>\n",
       "    .dataframe tbody tr th:only-of-type {\n",
       "        vertical-align: middle;\n",
       "    }\n",
       "\n",
       "    .dataframe tbody tr th {\n",
       "        vertical-align: top;\n",
       "    }\n",
       "\n",
       "    .dataframe thead th {\n",
       "        text-align: right;\n",
       "    }\n",
       "</style>\n",
       "<table border=\"1\" class=\"dataframe\">\n",
       "  <thead>\n",
       "    <tr style=\"text-align: right;\">\n",
       "      <th></th>\n",
       "      <th>Text</th>\n",
       "      <th>Date and Time</th>\n",
       "      <th>Likes</th>\n",
       "      <th>Retweets</th>\n",
       "      <th>No. of Images</th>\n",
       "    </tr>\n",
       "  </thead>\n",
       "  <tbody>\n",
       "    <tr>\n",
       "      <th>0</th>\n",
       "      <td>RT @kdnuggets: Top 8 #Free Must-Read #Books on...</td>\n",
       "      <td>Sat Apr 06 17:11:29 +0000 2019</td>\n",
       "      <td>0</td>\n",
       "      <td>1</td>\n",
       "      <td>None</td>\n",
       "    </tr>\n",
       "    <tr>\n",
       "      <th>1</th>\n",
       "      <td>@nupur_baghel @PennDATS Congratulation @nupur_...</td>\n",
       "      <td>Sat Apr 06 16:43:27 +0000 2019</td>\n",
       "      <td>3</td>\n",
       "      <td>1</td>\n",
       "      <td>1</td>\n",
       "    </tr>\n",
       "    <tr>\n",
       "      <th>2</th>\n",
       "      <td>We have emailed the task details to all candid...</td>\n",
       "      <td>Fri Apr 05 16:08:37 +0000 2019</td>\n",
       "      <td>8</td>\n",
       "      <td>1</td>\n",
       "      <td>None</td>\n",
       "    </tr>\n",
       "    <tr>\n",
       "      <th>3</th>\n",
       "      <td>RT @rfpvjr: Our NAACL paper on polarization in...</td>\n",
       "      <td>Fri Apr 05 04:05:11 +0000 2019</td>\n",
       "      <td>0</td>\n",
       "      <td>16</td>\n",
       "      <td>None</td>\n",
       "    </tr>\n",
       "    <tr>\n",
       "      <th>4</th>\n",
       "      <td>RT @kdnuggets: Effective Transfer Learning For...</td>\n",
       "      <td>Fri Apr 05 04:04:43 +0000 2019</td>\n",
       "      <td>0</td>\n",
       "      <td>10</td>\n",
       "      <td>1</td>\n",
       "    </tr>\n",
       "    <tr>\n",
       "      <th>5</th>\n",
       "      <td>RT @stanfordnlp: What’s new in @Stanford CS224...</td>\n",
       "      <td>Wed Apr 03 18:31:53 +0000 2019</td>\n",
       "      <td>0</td>\n",
       "      <td>57</td>\n",
       "      <td>None</td>\n",
       "    </tr>\n",
       "    <tr>\n",
       "      <th>6</th>\n",
       "      <td>RT @DeepMindAI: Today we're releasing a large-...</td>\n",
       "      <td>Wed Apr 03 17:04:32 +0000 2019</td>\n",
       "      <td>0</td>\n",
       "      <td>844</td>\n",
       "      <td>None</td>\n",
       "    </tr>\n",
       "    <tr>\n",
       "      <th>7</th>\n",
       "      <td>RT @ylecun: Congratulations Jitendra Malik !\\n...</td>\n",
       "      <td>Wed Apr 03 09:03:40 +0000 2019</td>\n",
       "      <td>0</td>\n",
       "      <td>16</td>\n",
       "      <td>None</td>\n",
       "    </tr>\n",
       "    <tr>\n",
       "      <th>8</th>\n",
       "      <td>RT @IIITDelhi: Another chance to take admissio...</td>\n",
       "      <td>Wed Apr 03 07:46:02 +0000 2019</td>\n",
       "      <td>0</td>\n",
       "      <td>4</td>\n",
       "      <td>None</td>\n",
       "    </tr>\n",
       "    <tr>\n",
       "      <th>9</th>\n",
       "      <td>Dear @midasIIITD internship candidates who hav...</td>\n",
       "      <td>Tue Apr 02 04:20:13 +0000 2019</td>\n",
       "      <td>8</td>\n",
       "      <td>1</td>\n",
       "      <td>None</td>\n",
       "    </tr>\n",
       "    <tr>\n",
       "      <th>10</th>\n",
       "      <td>Looking forward to your paper submission to @I...</td>\n",
       "      <td>Tue Apr 02 02:44:54 +0000 2019</td>\n",
       "      <td>5</td>\n",
       "      <td>1</td>\n",
       "      <td>None</td>\n",
       "    </tr>\n",
       "    <tr>\n",
       "      <th>11</th>\n",
       "      <td>RT @ngrams: Reproducibility in multimedia rese...</td>\n",
       "      <td>Tue Apr 02 02:35:44 +0000 2019</td>\n",
       "      <td>0</td>\n",
       "      <td>7</td>\n",
       "      <td>None</td>\n",
       "    </tr>\n",
       "    <tr>\n",
       "      <th>12</th>\n",
       "      <td>Online application for https://t.co/DJFDrQsHZP...</td>\n",
       "      <td>Mon Apr 01 06:53:08 +0000 2019</td>\n",
       "      <td>6</td>\n",
       "      <td>1</td>\n",
       "      <td>None</td>\n",
       "    </tr>\n",
       "    <tr>\n",
       "      <th>13</th>\n",
       "      <td>RT @ACMMM19: A final reminder of the Reproduci...</td>\n",
       "      <td>Sun Mar 31 10:21:24 +0000 2019</td>\n",
       "      <td>0</td>\n",
       "      <td>10</td>\n",
       "      <td>None</td>\n",
       "    </tr>\n",
       "    <tr>\n",
       "      <th>14</th>\n",
       "      <td>RT @isarth23: Thanks for the support and help ...</td>\n",
       "      <td>Fri Mar 29 19:43:24 +0000 2019</td>\n",
       "      <td>0</td>\n",
       "      <td>2</td>\n",
       "      <td>None</td>\n",
       "    </tr>\n",
       "    <tr>\n",
       "      <th>15</th>\n",
       "      <td>Since SemEval-2019 will be held June 6-7, 2019...</td>\n",
       "      <td>Fri Mar 29 17:16:40 +0000 2019</td>\n",
       "      <td>9</td>\n",
       "      <td>1</td>\n",
       "      <td>None</td>\n",
       "    </tr>\n",
       "    <tr>\n",
       "      <th>16</th>\n",
       "      <td>+@aggarwal_kartik.\\nCongrats! Wish you many mo...</td>\n",
       "      <td>Fri Mar 29 17:04:30 +0000 2019</td>\n",
       "      <td>2</td>\n",
       "      <td>0</td>\n",
       "      <td>None</td>\n",
       "    </tr>\n",
       "    <tr>\n",
       "      <th>17</th>\n",
       "      <td>RT @aggarwal_kartik: Our work (@midasIIITD ) a...</td>\n",
       "      <td>Fri Mar 29 17:03:29 +0000 2019</td>\n",
       "      <td>0</td>\n",
       "      <td>1</td>\n",
       "      <td>None</td>\n",
       "    </tr>\n",
       "    <tr>\n",
       "      <th>18</th>\n",
       "      <td>Congratulations! @midasIIITD team, @isarth23 @...</td>\n",
       "      <td>Fri Mar 29 17:02:24 +0000 2019</td>\n",
       "      <td>9</td>\n",
       "      <td>1</td>\n",
       "      <td>None</td>\n",
       "    </tr>\n",
       "    <tr>\n",
       "      <th>19</th>\n",
       "      <td>@EEMLcommunity @radamihalcea too many deadline...</td>\n",
       "      <td>Fri Mar 29 05:35:22 +0000 2019</td>\n",
       "      <td>0</td>\n",
       "      <td>0</td>\n",
       "      <td>None</td>\n",
       "    </tr>\n",
       "  </tbody>\n",
       "</table>\n",
       "</div>"
      ],
      "text/plain": [
       "                                                 Text  \\\n",
       "0   RT @kdnuggets: Top 8 #Free Must-Read #Books on...   \n",
       "1   @nupur_baghel @PennDATS Congratulation @nupur_...   \n",
       "2   We have emailed the task details to all candid...   \n",
       "3   RT @rfpvjr: Our NAACL paper on polarization in...   \n",
       "4   RT @kdnuggets: Effective Transfer Learning For...   \n",
       "5   RT @stanfordnlp: What’s new in @Stanford CS224...   \n",
       "6   RT @DeepMindAI: Today we're releasing a large-...   \n",
       "7   RT @ylecun: Congratulations Jitendra Malik !\\n...   \n",
       "8   RT @IIITDelhi: Another chance to take admissio...   \n",
       "9   Dear @midasIIITD internship candidates who hav...   \n",
       "10  Looking forward to your paper submission to @I...   \n",
       "11  RT @ngrams: Reproducibility in multimedia rese...   \n",
       "12  Online application for https://t.co/DJFDrQsHZP...   \n",
       "13  RT @ACMMM19: A final reminder of the Reproduci...   \n",
       "14  RT @isarth23: Thanks for the support and help ...   \n",
       "15  Since SemEval-2019 will be held June 6-7, 2019...   \n",
       "16  +@aggarwal_kartik.\\nCongrats! Wish you many mo...   \n",
       "17  RT @aggarwal_kartik: Our work (@midasIIITD ) a...   \n",
       "18  Congratulations! @midasIIITD team, @isarth23 @...   \n",
       "19  @EEMLcommunity @radamihalcea too many deadline...   \n",
       "\n",
       "                     Date and Time  Likes  Retweets No. of Images  \n",
       "0   Sat Apr 06 17:11:29 +0000 2019      0         1          None  \n",
       "1   Sat Apr 06 16:43:27 +0000 2019      3         1             1  \n",
       "2   Fri Apr 05 16:08:37 +0000 2019      8         1          None  \n",
       "3   Fri Apr 05 04:05:11 +0000 2019      0        16          None  \n",
       "4   Fri Apr 05 04:04:43 +0000 2019      0        10             1  \n",
       "5   Wed Apr 03 18:31:53 +0000 2019      0        57          None  \n",
       "6   Wed Apr 03 17:04:32 +0000 2019      0       844          None  \n",
       "7   Wed Apr 03 09:03:40 +0000 2019      0        16          None  \n",
       "8   Wed Apr 03 07:46:02 +0000 2019      0         4          None  \n",
       "9   Tue Apr 02 04:20:13 +0000 2019      8         1          None  \n",
       "10  Tue Apr 02 02:44:54 +0000 2019      5         1          None  \n",
       "11  Tue Apr 02 02:35:44 +0000 2019      0         7          None  \n",
       "12  Mon Apr 01 06:53:08 +0000 2019      6         1          None  \n",
       "13  Sun Mar 31 10:21:24 +0000 2019      0        10          None  \n",
       "14  Fri Mar 29 19:43:24 +0000 2019      0         2          None  \n",
       "15  Fri Mar 29 17:16:40 +0000 2019      9         1          None  \n",
       "16  Fri Mar 29 17:04:30 +0000 2019      2         0          None  \n",
       "17  Fri Mar 29 17:03:29 +0000 2019      0         1          None  \n",
       "18  Fri Mar 29 17:02:24 +0000 2019      9         1          None  \n",
       "19  Fri Mar 29 05:35:22 +0000 2019      0         0          None  "
      ]
     },
     "execution_count": 189,
     "metadata": {},
     "output_type": "execute_result"
    }
   ],
   "source": [
    "df"
   ]
  },
  {
   "cell_type": "code",
   "execution_count": null,
   "metadata": {},
   "outputs": [],
   "source": []
  },
  {
   "cell_type": "code",
   "execution_count": null,
   "metadata": {},
   "outputs": [],
   "source": []
  }
 ],
 "metadata": {
  "kernelspec": {
   "display_name": "Python 3",
   "language": "python",
   "name": "python3"
  },
  "language_info": {
   "codemirror_mode": {
    "name": "ipython",
    "version": 3
   },
   "file_extension": ".py",
   "mimetype": "text/x-python",
   "name": "python",
   "nbconvert_exporter": "python",
   "pygments_lexer": "ipython3",
   "version": "3.6.8"
  }
 },
 "nbformat": 4,
 "nbformat_minor": 2
}
