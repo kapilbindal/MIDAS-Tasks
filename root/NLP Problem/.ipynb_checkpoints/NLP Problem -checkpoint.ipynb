{
 "cells": [
  {
   "cell_type": "markdown",
   "metadata": {},
   "source": [
    "### Importing Libraries"
   ]
  },
  {
   "cell_type": "code",
   "execution_count": 2,
   "metadata": {},
   "outputs": [
    {
     "name": "stderr",
     "output_type": "stream",
     "text": [
      "Using TensorFlow backend.\n"
     ]
    }
   ],
   "source": [
    "import pandas as pd\n",
    "import matplotlib.pyplot as plt\n",
    "import numpy as np\n",
    "import nltk\n",
    "from nltk.corpus import stopwords\n",
    "from nltk.stem.snowball import PorterStemmer\n",
    "from keras import models\n",
    "from keras.preprocessing import sequence\n",
    "from keras.preprocessing.text import Tokenizer\n",
    "from keras.utils import to_categorical\n",
    "from keras.layers import *\n",
    "from keras.models import Sequential\n",
    "from keras.callbacks import EarlyStopping\n",
    "from keras.callbacks import ModelCheckpoint\n",
    "from sklearn.metrics import confusion_matrix\n",
    "from sklearn.metrics import classification_report"
   ]
  },
  {
   "cell_type": "markdown",
   "metadata": {},
   "source": [
    "### Fetching Data"
   ]
  },
  {
   "cell_type": "code",
   "execution_count": 61,
   "metadata": {},
   "outputs": [],
   "source": [
    "dfTrain = pd.read_csv('./Subtask-A/V1.4_Training.csv',header=None,encoding='latin-1')\n",
    "dfTest = pd.read_csv('./Subtask-A/SubtaskA_Trial_Test_Labeled.csv',encoding='latin-1')"
   ]
  },
  {
   "cell_type": "code",
   "execution_count": 62,
   "metadata": {},
   "outputs": [
    {
     "data": {
      "text/html": [
       "<div>\n",
       "<style scoped>\n",
       "    .dataframe tbody tr th:only-of-type {\n",
       "        vertical-align: middle;\n",
       "    }\n",
       "\n",
       "    .dataframe tbody tr th {\n",
       "        vertical-align: top;\n",
       "    }\n",
       "\n",
       "    .dataframe thead th {\n",
       "        text-align: right;\n",
       "    }\n",
       "</style>\n",
       "<table border=\"1\" class=\"dataframe\">\n",
       "  <thead>\n",
       "    <tr style=\"text-align: right;\">\n",
       "      <th></th>\n",
       "      <th>id</th>\n",
       "      <th>sentence</th>\n",
       "      <th>label</th>\n",
       "    </tr>\n",
       "  </thead>\n",
       "  <tbody>\n",
       "    <tr>\n",
       "      <th>0</th>\n",
       "      <td>1310_1</td>\n",
       "      <td>I'm not asking Microsoft to Gives permission l...</td>\n",
       "      <td>1</td>\n",
       "    </tr>\n",
       "    <tr>\n",
       "      <th>1</th>\n",
       "      <td>1312_1</td>\n",
       "      <td>somewhere between Android and iPhone.</td>\n",
       "      <td>0</td>\n",
       "    </tr>\n",
       "    <tr>\n",
       "      <th>2</th>\n",
       "      <td>1313_1</td>\n",
       "      <td>And in the Windows Store you can flag the App ...</td>\n",
       "      <td>0</td>\n",
       "    </tr>\n",
       "    <tr>\n",
       "      <th>3</th>\n",
       "      <td>1313_2</td>\n",
       "      <td>Many thanks Sameh Hi, As we know, there is a l...</td>\n",
       "      <td>0</td>\n",
       "    </tr>\n",
       "    <tr>\n",
       "      <th>4</th>\n",
       "      <td>1313_3</td>\n",
       "      <td>The idea is that we can develop a regular app ...</td>\n",
       "      <td>1</td>\n",
       "    </tr>\n",
       "  </tbody>\n",
       "</table>\n",
       "</div>"
      ],
      "text/plain": [
       "       id                                           sentence  label\n",
       "0  1310_1  I'm not asking Microsoft to Gives permission l...      1\n",
       "1  1312_1              somewhere between Android and iPhone.      0\n",
       "2  1313_1  And in the Windows Store you can flag the App ...      0\n",
       "3  1313_2  Many thanks Sameh Hi, As we know, there is a l...      0\n",
       "4  1313_3  The idea is that we can develop a regular app ...      1"
      ]
     },
     "execution_count": 62,
     "metadata": {},
     "output_type": "execute_result"
    }
   ],
   "source": [
    "dfTest.head()"
   ]
  },
  {
   "cell_type": "code",
   "execution_count": 63,
   "metadata": {},
   "outputs": [
    {
     "data": {
      "text/html": [
       "<div>\n",
       "<style scoped>\n",
       "    .dataframe tbody tr th:only-of-type {\n",
       "        vertical-align: middle;\n",
       "    }\n",
       "\n",
       "    .dataframe tbody tr th {\n",
       "        vertical-align: top;\n",
       "    }\n",
       "\n",
       "    .dataframe thead th {\n",
       "        text-align: right;\n",
       "    }\n",
       "</style>\n",
       "<table border=\"1\" class=\"dataframe\">\n",
       "  <thead>\n",
       "    <tr style=\"text-align: right;\">\n",
       "      <th></th>\n",
       "      <th>id</th>\n",
       "      <th>sentence</th>\n",
       "      <th>label</th>\n",
       "    </tr>\n",
       "  </thead>\n",
       "  <tbody>\n",
       "    <tr>\n",
       "      <th>0</th>\n",
       "      <td>1310_1</td>\n",
       "      <td>I'm not asking Microsoft to Gives permission l...</td>\n",
       "      <td>1</td>\n",
       "    </tr>\n",
       "    <tr>\n",
       "      <th>1</th>\n",
       "      <td>1312_1</td>\n",
       "      <td>somewhere between Android and iPhone.</td>\n",
       "      <td>0</td>\n",
       "    </tr>\n",
       "    <tr>\n",
       "      <th>2</th>\n",
       "      <td>1313_1</td>\n",
       "      <td>And in the Windows Store you can flag the App ...</td>\n",
       "      <td>0</td>\n",
       "    </tr>\n",
       "    <tr>\n",
       "      <th>3</th>\n",
       "      <td>1313_2</td>\n",
       "      <td>Many thanks Sameh Hi, As we know, there is a l...</td>\n",
       "      <td>0</td>\n",
       "    </tr>\n",
       "    <tr>\n",
       "      <th>4</th>\n",
       "      <td>1313_3</td>\n",
       "      <td>The idea is that we can develop a regular app ...</td>\n",
       "      <td>1</td>\n",
       "    </tr>\n",
       "  </tbody>\n",
       "</table>\n",
       "</div>"
      ],
      "text/plain": [
       "       id                                           sentence  label\n",
       "0  1310_1  I'm not asking Microsoft to Gives permission l...      1\n",
       "1  1312_1              somewhere between Android and iPhone.      0\n",
       "2  1313_1  And in the Windows Store you can flag the App ...      0\n",
       "3  1313_2  Many thanks Sameh Hi, As we know, there is a l...      0\n",
       "4  1313_3  The idea is that we can develop a regular app ...      1"
      ]
     },
     "execution_count": 63,
     "metadata": {},
     "output_type": "execute_result"
    }
   ],
   "source": [
    "dfTest.head()"
   ]
  },
  {
   "cell_type": "code",
   "execution_count": 7,
   "metadata": {},
   "outputs": [
    {
     "name": "stdout",
     "output_type": "stream",
     "text": [
      "(8500,) (8500,)\n"
     ]
    }
   ],
   "source": [
    "#storing useful data i.e column 1 and 2 in xTrain and yTrain\n",
    "dataTrain= dfTrain.values\n",
    "dataTrain = dataTrain[:,1:]\n",
    "dataXTrain = dataTrain[:,0]\n",
    "dataYTrain = dataTrain[:,1]\n",
    "print(dataXTrain.shape,dataYTrain.shape)"
   ]
  },
  {
   "cell_type": "code",
   "execution_count": 8,
   "metadata": {},
   "outputs": [
    {
     "name": "stdout",
     "output_type": "stream",
     "text": [
      "(592,) (592,)\n"
     ]
    }
   ],
   "source": [
    "#storing useful data i.e column 1 and 2 and samples from row 1 in xTest and yTest\n",
    "dataTest= dfTest.values\n",
    "dataTest = dataTest[1:,1:]\n",
    "dataXTest = dataTest[:,0]\n",
    "dataYTest = dataTest[:,1]\n",
    "print(dataXTest.shape,dataYTest.shape)"
   ]
  },
  {
   "cell_type": "code",
   "execution_count": 10,
   "metadata": {},
   "outputs": [],
   "source": [
    "dataYTrain = np.array(dataYTrain,dtype = 'int64')\n",
    "dataYTest = np.array(dataYTest,dtype = 'int64')"
   ]
  },
  {
   "cell_type": "markdown",
   "metadata": {},
   "source": [
    "### Cleaning and Tokenising Data"
   ]
  },
  {
   "cell_type": "code",
   "execution_count": 11,
   "metadata": {},
   "outputs": [],
   "source": [
    "stopw = set(stopwords.words(\"english\"))\n",
    "ps = PorterStemmer()"
   ]
  },
  {
   "cell_type": "code",
   "execution_count": 12,
   "metadata": {},
   "outputs": [],
   "source": [
    "# method to tokenize the sentence and remove stopwords(having no information) along with their stemming\n",
    "def filterData(text): \n",
    "    data = []\n",
    "    for i in text:\n",
    "        sentences = nltk.sent_tokenize(i)\n",
    "        for sent in sentences:\n",
    "            words =  nltk.word_tokenize(sent)\n",
    "            words = [w.lower() for w in words if len(w)>2 and w not in stopw]\n",
    "            words = [ps.stem(w) for w in words]\n",
    "            data.append(words)\n",
    "    return data"
   ]
  },
  {
   "cell_type": "code",
   "execution_count": 13,
   "metadata": {},
   "outputs": [
    {
     "name": "stdout",
     "output_type": "stream",
     "text": [
      "['pleas', 'enabl', 'remov', 'languag', 'code', 'dev', 'center', 'languag', 'histori', 'for', 'exampl', 'ever', 'select', 'ru-ru', 'laguag', 'publish', 'xap', 'store', 'caus', 'tile', 'local', 'show', 'en-u', 'default', 'tile', 'local', 'bad']\n",
      "['the', 'idea', 'develop', 'regular', 'app', 'request', 'permiss', 'manifest', 'app', 'ask', 'for', 'trust_æ_']\n",
      "['thi', 'would', 'enabl', 'live', 'traffic', 'awar', 'app']\n"
     ]
    }
   ],
   "source": [
    "xTrain = np.array(filterData(dataXTrain))\n",
    "print(xTrain[0])\n",
    "xTest = np.array(filterData(dataXTest))\n",
    "print(xTest[4])"
   ]
  },
  {
   "cell_type": "code",
   "execution_count": 14,
   "metadata": {},
   "outputs": [
    {
     "name": "stdout",
     "output_type": "stream",
     "text": [
      "(8500, 2)\n",
      "(592, 2)\n"
     ]
    }
   ],
   "source": [
    "yTrain = to_categorical(dataYTrain)  # Converting yTrain and yTest to one Hot vector i.e label 0 will be represented as [1 0]\n",
    "print(yTrain.shape)\n",
    "yTest = to_categorical(dataYTest)\n",
    "print(yTest.shape)"
   ]
  },
  {
   "cell_type": "code",
   "execution_count": 15,
   "metadata": {},
   "outputs": [],
   "source": [
    "# method to get list/length of uniue words in the text so as to make their vector(no of unique words = size of vector)\n",
    "def getUniqueSet(X):\n",
    "    wordSet = set()\n",
    "    maxLen = 0\n",
    "    for sent in X:\n",
    "        wordSet.update(sent)\n",
    "        if(maxLen<len(sent)):\n",
    "            maxLen = len(sent)\n",
    "\n",
    "    vocabSize = len(list(wordSet))\n",
    "    #print(vocabSize)\n",
    "    #print(maxLen)\n",
    "    return vocabSize,maxLen"
   ]
  },
  {
   "cell_type": "code",
   "execution_count": 16,
   "metadata": {},
   "outputs": [],
   "source": [
    "vocabSize,maxLen = getUniqueSet(xTrain)"
   ]
  },
  {
   "cell_type": "code",
   "execution_count": 17,
   "metadata": {},
   "outputs": [],
   "source": [
    "# converting text to vectors where each word in a sentence is replaced by it's index in the tokenized dict\n",
    "myTokenizer = Tokenizer(num_words=vocabSize)\n",
    "myTokenizer.fit_on_texts(list(xTrain))\n",
    "xTrain = myTokenizer.texts_to_sequences(xTrain)\n",
    "xTest = myTokenizer.texts_to_sequences(xTest)\n",
    "xTrain = sequence.pad_sequences(xTrain, maxLen) # padding to make length of vectors of each sentence equal\n",
    "xTest = sequence.pad_sequences(xTest, maxLen)"
   ]
  },
  {
   "cell_type": "code",
   "execution_count": 18,
   "metadata": {},
   "outputs": [
    {
     "name": "stdout",
     "output_type": "stream",
     "text": [
      "(8755, 336) (601, 336)\n"
     ]
    }
   ],
   "source": [
    "print(xTrain.shape,xTest.shape)"
   ]
  },
  {
   "cell_type": "markdown",
   "metadata": {},
   "source": [
    "### Training LSTM Model"
   ]
  },
  {
   "cell_type": "code",
   "execution_count": 39,
   "metadata": {},
   "outputs": [
    {
     "name": "stdout",
     "output_type": "stream",
     "text": [
      "_________________________________________________________________\n",
      "Layer (type)                 Output Shape              Param #   \n",
      "=================================================================\n",
      "embedding_3 (Embedding)      (None, 336, 256)          2163200   \n",
      "_________________________________________________________________\n",
      "lstm_4 (LSTM)                (None, 64)                82176     \n",
      "_________________________________________________________________\n",
      "dropout_4 (Dropout)          (None, 64)                0         \n",
      "_________________________________________________________________\n",
      "dense_3 (Dense)              (None, 2)                 130       \n",
      "_________________________________________________________________\n",
      "activation_3 (Activation)    (None, 2)                 0         \n",
      "=================================================================\n",
      "Total params: 2,245,506\n",
      "Trainable params: 2,245,506\n",
      "Non-trainable params: 0\n",
      "_________________________________________________________________\n"
     ]
    }
   ],
   "source": [
    "#early stopping is used to prevent overfitting i.e trainig is stopped as soon as we get the best accuracy or least loss\n",
    "earlyStopping = EarlyStopping(min_delta = 0.001,monitor='val_acc', patience = 5)\n",
    "callback = [earlyStopping]\n",
    "\n",
    "# checkpoint to store the best fit model\n",
    "checkpoint = ModelCheckpoint(\"best_model.h5\",monitor='val_loss',verbose=True,save_best_only=True)\n",
    "\n",
    "#defining the model and it's layers\n",
    "model = Sequential()\n",
    "# Embedding is done to convert sparse vectors to dense vectors so as to reduce the no. of parameters and hence the training time\n",
    "model.add(Embedding(vocabSize,256,input_length=maxLen))\n",
    "#model.add(LSTM(64,return_sequences=False))\n",
    "#model.add(Dropout(0.4))\n",
    "model.add(LSTM(64,return_sequences=False))\n",
    "model.add(Dropout(0.4))\n",
    "model.add(Dense(2,activation='relu'))\n",
    "model.add(Activation('softmax'))\n",
    "model.summary()"
   ]
  },
  {
   "cell_type": "code",
   "execution_count": 40,
   "metadata": {},
   "outputs": [
    {
     "name": "stdout",
     "output_type": "stream",
     "text": [
      "Train on 6400 samples, validate on 1600 samples\n",
      "Epoch 1/10\n",
      "6400/6400 [==============================] - 89s 14ms/step - loss: 0.5480 - acc: 0.7684 - val_loss: 0.7956 - val_acc: 0.6150\n",
      "\n",
      "Epoch 00001: val_loss improved from inf to 0.79561, saving model to best_model.h5\n",
      "Epoch 2/10\n",
      "6400/6400 [==============================] - 86s 13ms/step - loss: 0.4729 - acc: 0.7827 - val_loss: 0.8832 - val_acc: 0.6034\n",
      "\n",
      "Epoch 00002: val_loss did not improve from 0.79561\n",
      "Epoch 3/10\n",
      "6400/6400 [==============================] - 89s 14ms/step - loss: 0.3414 - acc: 0.8501 - val_loss: 1.1043 - val_acc: 0.5675\n",
      "\n",
      "Epoch 00003: val_loss did not improve from 0.79561\n",
      "Epoch 4/10\n",
      "6400/6400 [==============================] - 84s 13ms/step - loss: 0.2489 - acc: 0.8996 - val_loss: 1.4820 - val_acc: 0.5906\n",
      "\n",
      "Epoch 00004: val_loss did not improve from 0.79561\n",
      "Epoch 5/10\n",
      "6400/6400 [==============================] - 84s 13ms/step - loss: 0.1828 - acc: 0.9292 - val_loss: 1.7499 - val_acc: 0.5844\n",
      "\n",
      "Epoch 00005: val_loss did not improve from 0.79561\n",
      "Epoch 6/10\n",
      "6400/6400 [==============================] - 87s 14ms/step - loss: 0.1468 - acc: 0.9415 - val_loss: 1.8529 - val_acc: 0.5694\n",
      "\n",
      "Epoch 00006: val_loss did not improve from 0.79561\n"
     ]
    },
    {
     "data": {
      "text/plain": [
       "<keras.callbacks.History at 0x23a7e1919b0>"
      ]
     },
     "execution_count": 40,
     "metadata": {},
     "output_type": "execute_result"
    }
   ],
   "source": [
    "model.compile(optimizer='adam',loss='binary_crossentropy',metrics=['acc'])\n",
    "model.fit(xTrain[:8000],yTrain[:8000],batch_size=32,epochs=10,shuffle=True,validation_split=0.2,callbacks=[checkpoint,earlyStopping])"
   ]
  },
  {
   "cell_type": "markdown",
   "metadata": {},
   "source": [
    "### Predicting and Testing"
   ]
  },
  {
   "cell_type": "code",
   "execution_count": 147,
   "metadata": {},
   "outputs": [],
   "source": [
    "predTrain = model.predict_classes(xTrain)\n",
    "predTest = model.predict_classes(xTest)"
   ]
  },
  {
   "cell_type": "code",
   "execution_count": 151,
   "metadata": {},
   "outputs": [],
   "source": [
    "cnfTrain = confusion_matrix(predTrain[:8500],dataYTrain)\n",
    "cnfTest = confusion_matrix(predTest[:592],dataYTest)"
   ]
  },
  {
   "cell_type": "code",
   "execution_count": 36,
   "metadata": {},
   "outputs": [],
   "source": [
    "# Function ot visualize confusion matrix\n",
    "import itertools\n",
    "def plot_confusion_matrix(cm, classes,\n",
    "                          normalize=False,\n",
    "                          title='Confusion matrix',\n",
    "                          cmap=plt.cm.Blues):\n",
    "    \"\"\"\n",
    "    This function prints and plots the confusion matrix.\n",
    "    Normalization can be applied by setting `normalize=True`.\n",
    "    \"\"\"\n",
    "    if normalize:\n",
    "        cm = cm.astype('float') / cm.sum(axis=1)[:, np.newaxis]\n",
    "        print(\"Normalized confusion matrix\")\n",
    "    else:\n",
    "        print('Confusion matrix, without normalization')\n",
    "\n",
    "    print(cm)\n",
    "\n",
    "    plt.imshow(cm, interpolation='nearest', cmap=cmap)\n",
    "    plt.title(title)\n",
    "    plt.colorbar()\n",
    "    tick_marks = np.arange(len(classes))\n",
    "    plt.xticks(tick_marks, classes, rotation=45)\n",
    "    plt.yticks(tick_marks, classes)\n",
    "\n",
    "    fmt = '.2f' if normalize else 'd'\n",
    "    thresh = cm.max() / 2.\n",
    "    for i, j in itertools.product(range(cm.shape[0]), range(cm.shape[1])):\n",
    "        plt.text(j, i, format(cm[i, j], fmt),\n",
    "                 horizontalalignment=\"center\",\n",
    "                 color=\"white\" if cm[i, j] > thresh else \"black\")\n",
    "\n",
    "    plt.ylabel('True label')\n",
    "    plt.xlabel('Predicted label')\n",
    "    plt.tight_layout()"
   ]
  },
  {
   "cell_type": "code",
   "execution_count": 153,
   "metadata": {},
   "outputs": [
    {
     "name": "stdout",
     "output_type": "stream",
     "text": [
      "Confusion matrix, without normalization\n",
      "[[6095  710]\n",
      " [ 320 1375]]\n"
     ]
    },
    {
     "data": {
      "image/png": "[encoded data removed]",
      "text/plain": [
       "<Figure size 432x288 with 2 Axes>"
      ]
     },
     "metadata": {
      "needs_background": "light"
     },
     "output_type": "display_data"
    }
   ],
   "source": [
    "plot_confusion_matrix(cnfTrain,classes=[1,0],title=\"Confusion Matrix Train\")"
   ]
  },
  {
   "cell_type": "code",
   "execution_count": 155,
   "metadata": {},
   "outputs": [
    {
     "name": "stdout",
     "output_type": "stream",
     "text": [
      "              precision    recall  f1-score   support\n",
      "\n",
      "           0       0.95      0.90      0.92      6805\n",
      "           1       0.66      0.81      0.73      1695\n",
      "\n",
      "   micro avg       0.88      0.88      0.88      8500\n",
      "   macro avg       0.80      0.85      0.82      8500\n",
      "weighted avg       0.89      0.88      0.88      8500\n",
      "\n"
     ]
    }
   ],
   "source": [
    "print(classification_report(predTrain[:8500],dataYTrain))"
   ]
  },
  {
   "cell_type": "code",
   "execution_count": 156,
   "metadata": {},
   "outputs": [
    {
     "name": "stdout",
     "output_type": "stream",
     "text": [
      "Confusion matrix, without normalization\n",
      "[[238 227]\n",
      " [ 58  69]]\n"
     ]
    },
    {
     "data": {
      "image/png": "[encoded data removed]",
      "text/plain": [
       "<Figure size 432x288 with 2 Axes>"
      ]
     },
     "metadata": {
      "needs_background": "light"
     },
     "output_type": "display_data"
    }
   ],
   "source": [
    "plot_confusion_matrix(cnfTest,classes=[1,0],title=\"Confusion Matrix Test\")"
   ]
  },
  {
   "cell_type": "code",
   "execution_count": 158,
   "metadata": {},
   "outputs": [
    {
     "name": "stdout",
     "output_type": "stream",
     "text": [
      "              precision    recall  f1-score   support\n",
      "\n",
      "           0       0.80      0.51      0.63       465\n",
      "           1       0.23      0.54      0.33       127\n",
      "\n",
      "   micro avg       0.52      0.52      0.52       592\n",
      "   macro avg       0.52      0.53      0.48       592\n",
      "weighted avg       0.68      0.52      0.56       592\n",
      "\n"
     ]
    }
   ],
   "source": [
    "print(classification_report(predTest[:592],dataYTest))"
   ]
  },
  {
   "cell_type": "markdown",
   "metadata": {},
   "source": [
    "### Generating Submission File"
   ]
  },
  {
   "cell_type": "code",
   "execution_count": 41,
   "metadata": {},
   "outputs": [],
   "source": [
    "dfEval = pd.read_csv('./Subtask-A/SubtaskA_EvaluationData.csv',header=None,encoding='latin-1')"
   ]
  },
  {
   "cell_type": "code",
   "execution_count": 42,
   "metadata": {},
   "outputs": [
    {
     "data": {
      "text/html": [
       "<div>\n",
       "<style scoped>\n",
       "    .dataframe tbody tr th:only-of-type {\n",
       "        vertical-align: middle;\n",
       "    }\n",
       "\n",
       "    .dataframe tbody tr th {\n",
       "        vertical-align: top;\n",
       "    }\n",
       "\n",
       "    .dataframe thead th {\n",
       "        text-align: right;\n",
       "    }\n",
       "</style>\n",
       "<table border=\"1\" class=\"dataframe\">\n",
       "  <thead>\n",
       "    <tr style=\"text-align: right;\">\n",
       "      <th></th>\n",
       "      <th>0</th>\n",
       "      <th>1</th>\n",
       "      <th>2</th>\n",
       "    </tr>\n",
       "  </thead>\n",
       "  <tbody>\n",
       "    <tr>\n",
       "      <th>0</th>\n",
       "      <td>9566</td>\n",
       "      <td>This would enable live traffic aware apps.</td>\n",
       "      <td>X</td>\n",
       "    </tr>\n",
       "    <tr>\n",
       "      <th>1</th>\n",
       "      <td>9569</td>\n",
       "      <td>Please try other formatting like bold italics ...</td>\n",
       "      <td>X</td>\n",
       "    </tr>\n",
       "    <tr>\n",
       "      <th>2</th>\n",
       "      <td>9576</td>\n",
       "      <td>Since computers were invented to save time I s...</td>\n",
       "      <td>X</td>\n",
       "    </tr>\n",
       "    <tr>\n",
       "      <th>3</th>\n",
       "      <td>9577</td>\n",
       "      <td>Allow rearranging if the user wants to change ...</td>\n",
       "      <td>X</td>\n",
       "    </tr>\n",
       "    <tr>\n",
       "      <th>4</th>\n",
       "      <td>9579</td>\n",
       "      <td>Add SIMD instructions for better use of ARM NE...</td>\n",
       "      <td>X</td>\n",
       "    </tr>\n",
       "  </tbody>\n",
       "</table>\n",
       "</div>"
      ],
      "text/plain": [
       "      0                                                  1  2\n",
       "0  9566         This would enable live traffic aware apps.  X\n",
       "1  9569  Please try other formatting like bold italics ...  X\n",
       "2  9576  Since computers were invented to save time I s...  X\n",
       "3  9577  Allow rearranging if the user wants to change ...  X\n",
       "4  9579  Add SIMD instructions for better use of ARM NE...  X"
      ]
     },
     "execution_count": 42,
     "metadata": {},
     "output_type": "execute_result"
    }
   ],
   "source": [
    "dfEval.head()"
   ]
  },
  {
   "cell_type": "code",
   "execution_count": 54,
   "metadata": {},
   "outputs": [
    {
     "name": "stdout",
     "output_type": "stream",
     "text": [
      "(833,) (833,)\n",
      "['thi', 'would', 'enabl', 'live', 'traffic', 'awar', 'app']\n"
     ]
    }
   ],
   "source": [
    "#storing useful data i.e column 1 and 2 in xEval and yEval\n",
    "dataEval= dfEval.values\n",
    "dataEval = dataEval[:,1:]\n",
    "dataXEval = dataEval[:,0]\n",
    "dataYEval = dataEval[:,1]\n",
    "print(dataXEval.shape,dataYEval.shape)\n",
    "\n",
    "xEval = np.array(filterData(dataXEval))\n",
    "print(xEval[0])"
   ]
  },
  {
   "cell_type": "code",
   "execution_count": 55,
   "metadata": {},
   "outputs": [],
   "source": [
    "xEval = myTokenizer.texts_to_sequences(xEval)\n",
    "xEval = sequence.pad_sequences(xEval, maxLen)\n",
    "xEval = xEval[:833]"
   ]
  },
  {
   "cell_type": "code",
   "execution_count": 56,
   "metadata": {},
   "outputs": [],
   "source": [
    "predictedEval = model.predict_classes(xEval)"
   ]
  },
  {
   "cell_type": "code",
   "execution_count": 65,
   "metadata": {},
   "outputs": [],
   "source": [
    "dfEval[2] = predictedEval"
   ]
  },
  {
   "cell_type": "code",
   "execution_count": 66,
   "metadata": {},
   "outputs": [
    {
     "data": {
      "text/html": [
       "<div>\n",
       "<style scoped>\n",
       "    .dataframe tbody tr th:only-of-type {\n",
       "        vertical-align: middle;\n",
       "    }\n",
       "\n",
       "    .dataframe tbody tr th {\n",
       "        vertical-align: top;\n",
       "    }\n",
       "\n",
       "    .dataframe thead th {\n",
       "        text-align: right;\n",
       "    }\n",
       "</style>\n",
       "<table border=\"1\" class=\"dataframe\">\n",
       "  <thead>\n",
       "    <tr style=\"text-align: right;\">\n",
       "      <th></th>\n",
       "      <th>0</th>\n",
       "      <th>1</th>\n",
       "      <th>2</th>\n",
       "    </tr>\n",
       "  </thead>\n",
       "  <tbody>\n",
       "    <tr>\n",
       "      <th>0</th>\n",
       "      <td>9566</td>\n",
       "      <td>This would enable live traffic aware apps.</td>\n",
       "      <td>0</td>\n",
       "    </tr>\n",
       "    <tr>\n",
       "      <th>1</th>\n",
       "      <td>9569</td>\n",
       "      <td>Please try other formatting like bold italics ...</td>\n",
       "      <td>0</td>\n",
       "    </tr>\n",
       "    <tr>\n",
       "      <th>2</th>\n",
       "      <td>9576</td>\n",
       "      <td>Since computers were invented to save time I s...</td>\n",
       "      <td>0</td>\n",
       "    </tr>\n",
       "    <tr>\n",
       "      <th>3</th>\n",
       "      <td>9577</td>\n",
       "      <td>Allow rearranging if the user wants to change ...</td>\n",
       "      <td>0</td>\n",
       "    </tr>\n",
       "    <tr>\n",
       "      <th>4</th>\n",
       "      <td>9579</td>\n",
       "      <td>Add SIMD instructions for better use of ARM NE...</td>\n",
       "      <td>0</td>\n",
       "    </tr>\n",
       "  </tbody>\n",
       "</table>\n",
       "</div>"
      ],
      "text/plain": [
       "      0                                                  1  2\n",
       "0  9566         This would enable live traffic aware apps.  0\n",
       "1  9569  Please try other formatting like bold italics ...  0\n",
       "2  9576  Since computers were invented to save time I s...  0\n",
       "3  9577  Allow rearranging if the user wants to change ...  0\n",
       "4  9579  Add SIMD instructions for better use of ARM NE...  0"
      ]
     },
     "execution_count": 66,
     "metadata": {},
     "output_type": "execute_result"
    }
   ],
   "source": [
    "dfEval.head()"
   ]
  },
  {
   "cell_type": "code",
   "execution_count": 67,
   "metadata": {},
   "outputs": [],
   "source": [
    "dfEval.to_csv('./kapil_gupta.csv')"
   ]
  },
  {
   "cell_type": "code",
   "execution_count": null,
   "metadata": {},
   "outputs": [],
   "source": []
  }
 ],
 "metadata": {
  "kernelspec": {
   "display_name": "Python 3",
   "language": "python",
   "name": "python3"
  },
  "language_info": {
   "codemirror_mode": {
    "name": "ipython",
    "version": 3
   },
   "file_extension": ".py",
   "mimetype": "text/x-python",
   "name": "python",
   "nbconvert_exporter": "python",
   "pygments_lexer": "ipython3",
   "version": "3.6.8"
  }
 },
 "nbformat": 4,
 "nbformat_minor": 2
}
