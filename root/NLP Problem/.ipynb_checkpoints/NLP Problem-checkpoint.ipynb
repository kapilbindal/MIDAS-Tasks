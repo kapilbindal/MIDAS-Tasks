{
 "cells": [
  {
   "cell_type": "code",
   "execution_count": 360,
   "metadata": {},
   "outputs": [],
   "source": [
    "import pandas as pd\n",
    "import matplotlib.pyplot as plt\n",
    "import numpy as np\n",
    "from keras import models\n",
    "from keras.layers import Dense\n",
    "from keras.utils import to_categorical\n",
    "from nltk.stem.snowball import PorterStemmer\n",
    "from sklearn.metrics import f1_score"
   ]
  },
  {
   "cell_type": "code",
   "execution_count": 318,
   "metadata": {},
   "outputs": [],
   "source": [
    "df = pd.read_csv('trainingData.csv',header=None,encoding='latin-1')\n",
    "dfTest = pd.read_csv('testData.csv',header=None,encoding='latin-1')\n",
    "dfEval = pd.read_csv('evalData.csv',header=None,encoding='latin-1')"
   ]
  },
  {
   "cell_type": "code",
   "execution_count": 251,
   "metadata": {},
   "outputs": [
    {
     "data": {
      "text/html": [
       "<div>\n",
       "<style scoped>\n",
       "    .dataframe tbody tr th:only-of-type {\n",
       "        vertical-align: middle;\n",
       "    }\n",
       "\n",
       "    .dataframe tbody tr th {\n",
       "        vertical-align: top;\n",
       "    }\n",
       "\n",
       "    .dataframe thead th {\n",
       "        text-align: right;\n",
       "    }\n",
       "</style>\n",
       "<table border=\"1\" class=\"dataframe\">\n",
       "  <thead>\n",
       "    <tr style=\"text-align: right;\">\n",
       "      <th></th>\n",
       "      <th>0</th>\n",
       "      <th>1</th>\n",
       "      <th>2</th>\n",
       "    </tr>\n",
       "  </thead>\n",
       "  <tbody>\n",
       "    <tr>\n",
       "      <th>0</th>\n",
       "      <td>id</td>\n",
       "      <td>sentence</td>\n",
       "      <td>label</td>\n",
       "    </tr>\n",
       "    <tr>\n",
       "      <th>1</th>\n",
       "      <td>1310_1</td>\n",
       "      <td>I'm not asking Microsoft to Gives permission l...</td>\n",
       "      <td>1</td>\n",
       "    </tr>\n",
       "    <tr>\n",
       "      <th>2</th>\n",
       "      <td>1312_1</td>\n",
       "      <td>somewhere between Android and iPhone.</td>\n",
       "      <td>0</td>\n",
       "    </tr>\n",
       "    <tr>\n",
       "      <th>3</th>\n",
       "      <td>1313_1</td>\n",
       "      <td>And in the Windows Store you can flag the App ...</td>\n",
       "      <td>0</td>\n",
       "    </tr>\n",
       "    <tr>\n",
       "      <th>4</th>\n",
       "      <td>1313_2</td>\n",
       "      <td>Many thanks Sameh Hi, As we know, there is a l...</td>\n",
       "      <td>0</td>\n",
       "    </tr>\n",
       "  </tbody>\n",
       "</table>\n",
       "</div>"
      ],
      "text/plain": [
       "        0                                                  1      2\n",
       "0      id                                           sentence  label\n",
       "1  1310_1  I'm not asking Microsoft to Gives permission l...      1\n",
       "2  1312_1              somewhere between Android and iPhone.      0\n",
       "3  1313_1  And in the Windows Store you can flag the App ...      0\n",
       "4  1313_2  Many thanks Sameh Hi, As we know, there is a l...      0"
      ]
     },
     "execution_count": 251,
     "metadata": {},
     "output_type": "execute_result"
    }
   ],
   "source": [
    "dfTest.head()"
   ]
  },
  {
   "cell_type": "code",
   "execution_count": 319,
   "metadata": {},
   "outputs": [
    {
     "data": {
      "text/html": [
       "<div>\n",
       "<style scoped>\n",
       "    .dataframe tbody tr th:only-of-type {\n",
       "        vertical-align: middle;\n",
       "    }\n",
       "\n",
       "    .dataframe tbody tr th {\n",
       "        vertical-align: top;\n",
       "    }\n",
       "\n",
       "    .dataframe thead th {\n",
       "        text-align: right;\n",
       "    }\n",
       "</style>\n",
       "<table border=\"1\" class=\"dataframe\">\n",
       "  <thead>\n",
       "    <tr style=\"text-align: right;\">\n",
       "      <th></th>\n",
       "      <th>0</th>\n",
       "      <th>1</th>\n",
       "      <th>2</th>\n",
       "    </tr>\n",
       "  </thead>\n",
       "  <tbody>\n",
       "    <tr>\n",
       "      <th>0</th>\n",
       "      <td>9566</td>\n",
       "      <td>This would enable live traffic aware apps.</td>\n",
       "      <td>X</td>\n",
       "    </tr>\n",
       "    <tr>\n",
       "      <th>1</th>\n",
       "      <td>9569</td>\n",
       "      <td>Please try other formatting like bold italics ...</td>\n",
       "      <td>X</td>\n",
       "    </tr>\n",
       "    <tr>\n",
       "      <th>2</th>\n",
       "      <td>9576</td>\n",
       "      <td>Since computers were invented to save time I s...</td>\n",
       "      <td>X</td>\n",
       "    </tr>\n",
       "    <tr>\n",
       "      <th>3</th>\n",
       "      <td>9577</td>\n",
       "      <td>Allow rearranging if the user wants to change ...</td>\n",
       "      <td>X</td>\n",
       "    </tr>\n",
       "    <tr>\n",
       "      <th>4</th>\n",
       "      <td>9579</td>\n",
       "      <td>Add SIMD instructions for better use of ARM NE...</td>\n",
       "      <td>X</td>\n",
       "    </tr>\n",
       "  </tbody>\n",
       "</table>\n",
       "</div>"
      ],
      "text/plain": [
       "      0                                                  1  2\n",
       "0  9566         This would enable live traffic aware apps.  X\n",
       "1  9569  Please try other formatting like bold italics ...  X\n",
       "2  9576  Since computers were invented to save time I s...  X\n",
       "3  9577  Allow rearranging if the user wants to change ...  X\n",
       "4  9579  Add SIMD instructions for better use of ARM NE...  X"
      ]
     },
     "execution_count": 319,
     "metadata": {},
     "output_type": "execute_result"
    }
   ],
   "source": [
    "dfEval.head()"
   ]
  },
  {
   "cell_type": "code",
   "execution_count": 252,
   "metadata": {},
   "outputs": [
    {
     "data": {
      "text/html": [
       "<div>\n",
       "<style scoped>\n",
       "    .dataframe tbody tr th:only-of-type {\n",
       "        vertical-align: middle;\n",
       "    }\n",
       "\n",
       "    .dataframe tbody tr th {\n",
       "        vertical-align: top;\n",
       "    }\n",
       "\n",
       "    .dataframe thead th {\n",
       "        text-align: right;\n",
       "    }\n",
       "</style>\n",
       "<table border=\"1\" class=\"dataframe\">\n",
       "  <thead>\n",
       "    <tr style=\"text-align: right;\">\n",
       "      <th></th>\n",
       "      <th>0</th>\n",
       "      <th>1</th>\n",
       "      <th>2</th>\n",
       "    </tr>\n",
       "  </thead>\n",
       "  <tbody>\n",
       "    <tr>\n",
       "      <th>0</th>\n",
       "      <td>663_3</td>\n",
       "      <td>\"Please enable removing language code from the...</td>\n",
       "      <td>1</td>\n",
       "    </tr>\n",
       "    <tr>\n",
       "      <th>1</th>\n",
       "      <td>663_4</td>\n",
       "      <td>\"Note: in your .csproj file, there is a Suppor...</td>\n",
       "      <td>0</td>\n",
       "    </tr>\n",
       "    <tr>\n",
       "      <th>2</th>\n",
       "      <td>664_1</td>\n",
       "      <td>\"Wich means the new version not fully replaced...</td>\n",
       "      <td>0</td>\n",
       "    </tr>\n",
       "    <tr>\n",
       "      <th>3</th>\n",
       "      <td>664_2</td>\n",
       "      <td>\"Some of my users will still receive the old x...</td>\n",
       "      <td>0</td>\n",
       "    </tr>\n",
       "    <tr>\n",
       "      <th>4</th>\n",
       "      <td>664_3</td>\n",
       "      <td>\"The store randomly gives the old xap or the n...</td>\n",
       "      <td>0</td>\n",
       "    </tr>\n",
       "  </tbody>\n",
       "</table>\n",
       "</div>"
      ],
      "text/plain": [
       "       0                                                  1  2\n",
       "0  663_3  \"Please enable removing language code from the...  1\n",
       "1  663_4  \"Note: in your .csproj file, there is a Suppor...  0\n",
       "2  664_1  \"Wich means the new version not fully replaced...  0\n",
       "3  664_2  \"Some of my users will still receive the old x...  0\n",
       "4  664_3  \"The store randomly gives the old xap or the n...  0"
      ]
     },
     "execution_count": 252,
     "metadata": {},
     "output_type": "execute_result"
    }
   ],
   "source": [
    "df.head()"
   ]
  },
  {
   "cell_type": "code",
   "execution_count": 253,
   "metadata": {},
   "outputs": [],
   "source": [
    "data = df.values\n"
   ]
  },
  {
   "cell_type": "code",
   "execution_count": 320,
   "metadata": {},
   "outputs": [],
   "source": [
    "dataEval = dfEval.values"
   ]
  },
  {
   "cell_type": "code",
   "execution_count": 254,
   "metadata": {},
   "outputs": [],
   "source": [
    "dataTest = dfTest.values"
   ]
  },
  {
   "cell_type": "code",
   "execution_count": 255,
   "metadata": {},
   "outputs": [],
   "source": [
    "dataTest = dataTest[1:,1:]"
   ]
  },
  {
   "cell_type": "code",
   "execution_count": 321,
   "metadata": {},
   "outputs": [],
   "source": [
    "dataEval = dataEval[:,1:]"
   ]
  },
  {
   "cell_type": "code",
   "execution_count": 256,
   "metadata": {},
   "outputs": [],
   "source": [
    "data = data[:,1:]"
   ]
  },
  {
   "cell_type": "code",
   "execution_count": 257,
   "metadata": {},
   "outputs": [],
   "source": [
    "xTrain = data[:,0]\n",
    "yTrain = data[:,1]\n",
    "yTrainNew = yTrain"
   ]
  },
  {
   "cell_type": "code",
   "execution_count": 258,
   "metadata": {},
   "outputs": [],
   "source": [
    "xTest = dataTest[:,0]\n",
    "yTest = dataTest[:,1]\n",
    "yTestNew = yTest"
   ]
  },
  {
   "cell_type": "code",
   "execution_count": 322,
   "metadata": {},
   "outputs": [],
   "source": [
    "xVal = dataEval[:,0]"
   ]
  },
  {
   "cell_type": "code",
   "execution_count": 259,
   "metadata": {},
   "outputs": [],
   "source": [
    "yTrain = to_categorical(yTrain,num_classes=2)"
   ]
  },
  {
   "cell_type": "code",
   "execution_count": 260,
   "metadata": {},
   "outputs": [],
   "source": [
    "yTest = to_categorical(yTest,num_classes=2)"
   ]
  },
  {
   "cell_type": "code",
   "execution_count": 261,
   "metadata": {},
   "outputs": [
    {
     "name": "stdout",
     "output_type": "stream",
     "text": [
      "(8500,) (8500, 2)\n",
      "\"Please enable removing language code from the Dev Center \"language history\" For example if you ever selected \"ru\" and \"ru-ru\" laguages and you published this xap to the Store then it causes Tile localization to show the en-us(default) tile localization which is bad.\"\n",
      "[0. 1.]\n"
     ]
    }
   ],
   "source": [
    "print(xTrain.shape,yTrain.shape)\n",
    "print(xTrain[0])\n",
    "print(yTrain[0])"
   ]
  },
  {
   "cell_type": "code",
   "execution_count": 287,
   "metadata": {},
   "outputs": [
    {
     "name": "stdout",
     "output_type": "stream",
     "text": [
      "(592,) (592, 2)\n",
      "I'm not asking Microsoft to Gives permission like Android so any app can take my data, but don't keep it restricted like iPhone.\n",
      "[0. 1.]\n"
     ]
    }
   ],
   "source": [
    "print(xTest.shape,yTest.shape)\n",
    "print(xTest[0])\n",
    "print(yTest[0])"
   ]
  },
  {
   "cell_type": "code",
   "execution_count": 288,
   "metadata": {},
   "outputs": [],
   "source": [
    "import nltk\n",
    "from nltk.corpus import stopwords"
   ]
  },
  {
   "cell_type": "code",
   "execution_count": 289,
   "metadata": {},
   "outputs": [],
   "source": [
    "stopw = set(stopwords.words(\"english\"))"
   ]
  },
  {
   "cell_type": "code",
   "execution_count": 343,
   "metadata": {},
   "outputs": [],
   "source": [
    "ps = PorterStemmer()"
   ]
  },
  {
   "cell_type": "code",
   "execution_count": 291,
   "metadata": {},
   "outputs": [],
   "source": []
  },
  {
   "cell_type": "code",
   "execution_count": 292,
   "metadata": {},
   "outputs": [],
   "source": []
  },
  {
   "cell_type": "code",
   "execution_count": 344,
   "metadata": {},
   "outputs": [],
   "source": [
    "def filterData(text): \n",
    "    data = []\n",
    "    for i in text:\n",
    "        sentences = nltk.sent_tokenize(i)\n",
    "        for sent in sentences:\n",
    "            \n",
    "            words =  nltk.word_tokenize(sent)\n",
    "            words = [w.lower() for w in words if len(w)>2 and w not in stopw]\n",
    "            words = [ps.stem(w) for w in words]\n",
    "            data.append(words)\n",
    "        #print(data)\n",
    "    return data"
   ]
  },
  {
   "cell_type": "code",
   "execution_count": 345,
   "metadata": {},
   "outputs": [
    {
     "name": "stdout",
     "output_type": "stream",
     "text": [
      "(8755,)\n"
     ]
    }
   ],
   "source": [
    "filteredData = np.array(filterData(xTrain))\n",
    "print(filteredData.shape)"
   ]
  },
  {
   "cell_type": "code",
   "execution_count": 295,
   "metadata": {},
   "outputs": [
    {
     "name": "stdout",
     "output_type": "stream",
     "text": [
      "(601,)\n"
     ]
    }
   ],
   "source": [
    "filteredTestData = np.array(filterData(xTest))\n",
    "print(filteredTestData.shape)"
   ]
  },
  {
   "cell_type": "code",
   "execution_count": 324,
   "metadata": {},
   "outputs": [
    {
     "name": "stdout",
     "output_type": "stream",
     "text": [
      "(838,)\n"
     ]
    }
   ],
   "source": [
    "filteredevalData = np.array(filterData(xVal))\n",
    "print(filteredevalData.shape)"
   ]
  },
  {
   "cell_type": "code",
   "execution_count": 296,
   "metadata": {},
   "outputs": [
    {
     "name": "stdout",
     "output_type": "stream",
     "text": [
      "(592, 2) [0. 1.] (601,)\n"
     ]
    }
   ],
   "source": [
    "print(yTest.shape,yTest[0],filteredTestData.shape)"
   ]
  },
  {
   "cell_type": "code",
   "execution_count": 297,
   "metadata": {},
   "outputs": [],
   "source": [
    "filteredTestData = filteredTestData[:592]"
   ]
  },
  {
   "cell_type": "code",
   "execution_count": 346,
   "metadata": {},
   "outputs": [],
   "source": [
    "filteredData = filteredData[:8500]"
   ]
  },
  {
   "cell_type": "code",
   "execution_count": 347,
   "metadata": {},
   "outputs": [],
   "source": [
    "embeddings = {}\n",
    "with open('glove.6B.50d.txt',encoding='utf-8') as f:\n",
    "    for line in f:\n",
    "        values = line.split()\n",
    "        word = values[0]\n",
    "        coeffs = np.asarray(values[1:],dtype='float32')\n",
    "        \n",
    "        #print(word)\n",
    "        #print(coeffs)\n",
    "        embeddings[word] = coeffs"
   ]
  },
  {
   "cell_type": "code",
   "execution_count": 348,
   "metadata": {},
   "outputs": [],
   "source": [
    "def getOutputEmbeddings(X):\n",
    "    \n",
    "    embedding_matrix_output = np.zeros((X.shape[0],200,50))\n",
    "    for ix in range(X.shape[0]):\n",
    "        #print(X[ix])\n",
    "        for jx in range(len(X[ix])):\n",
    "            if(X[ix][jx] in word):\n",
    "                embedding_matrix_output[ix][jx] = embeddings[X[ix][jx].lower()]\n",
    "            \n",
    "    return embedding_matrix_output"
   ]
  },
  {
   "cell_type": "code",
   "execution_count": 349,
   "metadata": {},
   "outputs": [],
   "source": [
    "emb_XT = getOutputEmbeddings(filteredData)"
   ]
  },
  {
   "cell_type": "code",
   "execution_count": 333,
   "metadata": {},
   "outputs": [],
   "source": [
    "emb_XTest = getOutputEmbeddings(filteredTestData)"
   ]
  },
  {
   "cell_type": "code",
   "execution_count": 334,
   "metadata": {},
   "outputs": [],
   "source": [
    "embEval =getOutputEmbeddings(filteredevalData)"
   ]
  },
  {
   "cell_type": "code",
   "execution_count": 336,
   "metadata": {},
   "outputs": [
    {
     "name": "stdout",
     "output_type": "stream",
     "text": [
      "(8500, 200, 50) (592, 200, 50) (838, 200, 50)\n"
     ]
    }
   ],
   "source": [
    "print(emb_XT.shape,emb_XTest.shape,embEval.shape)"
   ]
  },
  {
   "cell_type": "code",
   "execution_count": 306,
   "metadata": {},
   "outputs": [],
   "source": [
    "from keras.layers import *\n",
    "from keras.models import Sequential\n",
    "from keras.callbacks import EarlyStopping"
   ]
  },
  {
   "cell_type": "code",
   "execution_count": 350,
   "metadata": {},
   "outputs": [
    {
     "name": "stdout",
     "output_type": "stream",
     "text": [
      "_________________________________________________________________\n",
      "Layer (type)                 Output Shape              Param #   \n",
      "=================================================================\n",
      "lstm_31 (LSTM)               (None, 200, 64)           29440     \n",
      "_________________________________________________________________\n",
      "dropout_29 (Dropout)         (None, 200, 64)           0         \n",
      "_________________________________________________________________\n",
      "lstm_32 (LSTM)               (None, 64)                33024     \n",
      "_________________________________________________________________\n",
      "dropout_30 (Dropout)         (None, 64)                0         \n",
      "_________________________________________________________________\n",
      "dense_24 (Dense)             (None, 2)                 130       \n",
      "_________________________________________________________________\n",
      "activation_15 (Activation)   (None, 2)                 0         \n",
      "=================================================================\n",
      "Total params: 62,594\n",
      "Trainable params: 62,594\n",
      "Non-trainable params: 0\n",
      "_________________________________________________________________\n"
     ]
    }
   ],
   "source": [
    "earlyStopping = EarlyStopping(min_delta = 0.001,monitor='val_acc', patience = 5)\n",
    "callback = [early_stopping]\n",
    "\n",
    "model = Sequential()\n",
    "model.add(LSTM(64,input_shape=(200,50),return_sequences=True))\n",
    "model.add(Dropout(0.4))\n",
    "model.add(LSTM(64,return_sequences=False))\n",
    "model.add(Dropout(0.4))\n",
    "model.add(Dense(2,activation='relu'))\n",
    "model.add(Activation('softmax'))\n",
    "model.summary()"
   ]
  },
  {
   "cell_type": "code",
   "execution_count": 351,
   "metadata": {},
   "outputs": [
    {
     "name": "stdout",
     "output_type": "stream",
     "text": [
      "Train on 6800 samples, validate on 1700 samples\n",
      "Epoch 1/10\n",
      "6800/6800 [==============================] - 57s 8ms/step - loss: 0.5613 - acc: 0.7551 - val_loss: 0.6594 - val_acc: 0.6724\n",
      "Epoch 2/10\n",
      "6800/6800 [==============================] - 51s 7ms/step - loss: 0.5370 - acc: 0.7753 - val_loss: 0.6611 - val_acc: 0.6724\n",
      "Epoch 3/10\n",
      "6800/6800 [==============================] - 51s 7ms/step - loss: 0.5372 - acc: 0.7753 - val_loss: 0.6485 - val_acc: 0.6724\n",
      "Epoch 4/10\n",
      "6800/6800 [==============================] - 51s 8ms/step - loss: 0.5355 - acc: 0.7753 - val_loss: 0.6582 - val_acc: 0.6724\n",
      "Epoch 5/10\n",
      "6800/6800 [==============================] - 51s 8ms/step - loss: 0.5366 - acc: 0.7753 - val_loss: 0.6702 - val_acc: 0.6724\n",
      "Epoch 6/10\n",
      "6800/6800 [==============================] - 51s 8ms/step - loss: 0.5362 - acc: 0.7753 - val_loss: 0.6564 - val_acc: 0.6724\n"
     ]
    },
    {
     "data": {
      "text/plain": [
       "<keras.callbacks.History at 0x241a4fca400>"
      ]
     },
     "execution_count": 351,
     "metadata": {},
     "output_type": "execute_result"
    }
   ],
   "source": [
    "model.compile(optimizer='adam',loss='binary_crossentropy',metrics=['acc'])\n",
    "model.fit(emb_XT,yTrain,batch_size=32,epochs=10,shuffle=True,validation_split=0.2,callbacks=[earlyStopping])"
   ]
  },
  {
   "cell_type": "code",
   "execution_count": 366,
   "metadata": {},
   "outputs": [
    {
     "name": "stdout",
     "output_type": "stream",
     "text": [
      "(8500,) (8500,)\n",
      "<class 'numpy.ndarray'> <class 'numpy.ndarray'>\n"
     ]
    }
   ],
   "source": [
    "print(pred.shape,yTrainNew.shape)\n",
    "print(type(yTrainNew),type(pred))"
   ]
  },
  {
   "cell_type": "code",
   "execution_count": 355,
   "metadata": {},
   "outputs": [],
   "source": [
    "pred =  model.predict_classes(emb_XT)\n",
    "\n",
    "#print(yTrainNew[:500])"
   ]
  },
  {
   "cell_type": "code",
   "execution_count": 368,
   "metadata": {},
   "outputs": [],
   "source": [
    "f1_score?"
   ]
  },
  {
   "cell_type": "code",
   "execution_count": 356,
   "metadata": {},
   "outputs": [
    {
     "name": "stdout",
     "output_type": "stream",
     "text": [
      "8500\n"
     ]
    }
   ],
   "source": [
    "cnt = 0\n",
    "for i in pred:\n",
    "    if i == 0:\n",
    "        cnt +=1\n",
    "print(cnt)"
   ]
  },
  {
   "cell_type": "code",
   "execution_count": 227,
   "metadata": {},
   "outputs": [
    {
     "name": "stdout",
     "output_type": "stream",
     "text": [
      "['1' '0' '0' '0' '1' '1' '1' '1' '1' '1' '1' '1' '1' '1' '1' '0' '0' '1'\n",
      " '0' '1' '1' '1' '1' '1' '0' '0' '0' '0' '0' '1' '1' '0' '0' '0' '1' '0'\n",
      " '0' '1' '1' '1' '1' '1' '1' '0' '0' '0' '0' '0' '0' '0' '1' '0' '0' '1'\n",
      " '1' '0' '0' '1' '0' '0' '1' '1' '0' '0' '0' '1' '1' '1' '1' '0' '0' '1'\n",
      " '0' '1' '1' '1' '1' '1' '1' '1' '1' '1' '1' '1' '0' '0' '1' '1' '0' '1'\n",
      " '0' '0' '0' '1' '1' '1' '0' '0' '0' '0' '0' '0' '0' '1' '0' '0' '0' '0'\n",
      " '1' '1' '0' '0' '0' '1' '0' '0' '0' '1' '1' '1' '1' '1' '1' '1' '1' '0'\n",
      " '0' '0' '0' '0' '0' '1' '0' '0' '0' '0' '0' '0' '0' '0' '1' '0' '0' '1'\n",
      " '1' '0' '0' '0' '0' '1' '1' '0' '1' '1' '1' '1' '1' '1' '1' '0' '0' '0'\n",
      " '0' '0' '0' '0' '0' '0' '0' '1' '0' '0' '1' '0' '0' '1' '0' '0' '1' '0'\n",
      " '0' '1' '0' '0' '0' '0' '0' '1' '0' '0' '0' '1' '1' '1' '0' '0' '0' '0'\n",
      " '0' '0' '1' '1' '1' '0' '0' '1' '0' '1' '1' '1' '0' '1' '1' '0' '0' '0'\n",
      " '1' '0' '1' '1' '1' '1' '1' '1' '1' '0' '0' '0' '0' '1' '1' '1' '1' '1'\n",
      " '1' '1' '1' '1' '1' '1' '1' '1' '1' '1' '1' '1' '1' '1' '1' '1' '1' '0'\n",
      " '0' '0' '0' '1' '1' '1' '1' '1' '1' '1' '1' '1' '1' '1' '1' '1' '1' '1'\n",
      " '1' '1' '1' '1' '1' '1' '0' '1' '1' '0' '0' '1' '0' '0' '1' '0' '0' '0'\n",
      " '1' '1' '1' '1' '1' '1' '0' '0' '0' '0' '1' '0' '1' '0' '0' '1' '0' '0'\n",
      " '0' '0' '0' '0' '0' '1' '0' '0' '1' '1' '1' '0' '1' '0' '1' '0' '1' '1'\n",
      " '1' '1' '1' '1' '1' '1' '1' '1' '1' '1' '1' '1' '1' '1' '1' '1' '1' '1'\n",
      " '0' '1' '1' '0' '0' '0' '0' '1' '0' '1' '0' '0' '0' '0' '0' '0' '0' '0'\n",
      " '1' '1' '1' '1' '1' '1' '1' '0' '0' '0' '0' '1' '1' '1' '1' '1' '1' '0'\n",
      " '1' '0' '0' '0' '1' '1' '1' '1' '1' '0' '1' '1' '1' '1' '1' '1' '0' '0'\n",
      " '0' '0' '0' '1' '0' '1' '1' '0' '0' '1' '1' '1' '1' '1' '0' '0' '0' '0'\n",
      " '0' '0' '0' '0' '1' '1' '0' '0' '1' '0' '1' '0' '0' '0' '0' '1' '1' '0'\n",
      " '0' '0' '0' '0' '0' '0' '1' '0' '0' '1' '1' '0' '1' '0' '1' '1' '1' '0'\n",
      " '1' '0' '0' '0' '0' '0' '0' '0' '0' '0' '0' '0' '1' '0' '0' '0' '1' '0'\n",
      " '0' '0' '0' '0' '0' '0' '1' '0' '1' '0' '0' '0' '1' '0' '1' '1' '1' '1'\n",
      " '1' '1' '1' '1' '0' '0' '1' '1' '0' '0' '1' '0' '0' '0' '0' '0' '0' '1'\n",
      " '1' '1' '0' '0' '1' '1' '0' '1' '0' '0' '0' '0' '0' '1' '0' '0' '0' '0'\n",
      " '0' '1' '1' '0' '0' '0' '0' '0' '0' '1' '1' '0' '1' '0' '0' '0' '0' '1'\n",
      " '0' '0' '0' '0' '1' '0' '0' '1' '0' '0' '1' '0' '1' '0' '0' '0' '1' '1'\n",
      " '0' '1' '0' '1' '0' '0' '0' '0' '0' '1' '0' '0' '0' '0' '1' '1' '1' '0'\n",
      " '1' '1' '1' '1' '1' '1' '1' '1' '1' '1' '1' '1' '1' '1' '1' '1']\n"
     ]
    }
   ],
   "source": [
    "for i"
   ]
  },
  {
   "cell_type": "code",
   "execution_count": null,
   "metadata": {},
   "outputs": [],
   "source": []
  },
  {
   "cell_type": "code",
   "execution_count": null,
   "metadata": {},
   "outputs": [],
   "source": []
  },
  {
   "cell_type": "code",
   "execution_count": null,
   "metadata": {},
   "outputs": [],
   "source": []
  },
  {
   "cell_type": "code",
   "execution_count": null,
   "metadata": {},
   "outputs": [],
   "source": []
  },
  {
   "cell_type": "code",
   "execution_count": null,
   "metadata": {},
   "outputs": [],
   "source": []
  },
  {
   "cell_type": "code",
   "execution_count": null,
   "metadata": {},
   "outputs": [],
   "source": []
  },
  {
   "cell_type": "code",
   "execution_count": null,
   "metadata": {},
   "outputs": [],
   "source": []
  },
  {
   "cell_type": "code",
   "execution_count": null,
   "metadata": {},
   "outputs": [],
   "source": []
  },
  {
   "cell_type": "code",
   "execution_count": null,
   "metadata": {},
   "outputs": [],
   "source": []
  },
  {
   "cell_type": "code",
   "execution_count": null,
   "metadata": {},
   "outputs": [],
   "source": []
  },
  {
   "cell_type": "code",
   "execution_count": null,
   "metadata": {},
   "outputs": [],
   "source": []
  }
 ],
 "metadata": {
  "kernelspec": {
   "display_name": "Python 3",
   "language": "python",
   "name": "python3"
  },
  "language_info": {
   "codemirror_mode": {
    "name": "ipython",
    "version": 3
   },
   "file_extension": ".py",
   "mimetype": "text/x-python",
   "name": "python",
   "nbconvert_exporter": "python",
   "pygments_lexer": "ipython3",
   "version": "3.6.8"
  }
 },
 "nbformat": 4,
 "nbformat_minor": 2
}
