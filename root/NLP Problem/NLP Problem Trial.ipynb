{
 "cells": [
  {
   "cell_type": "code",
   "execution_count": 28,
   "metadata": {},
   "outputs": [],
   "source": [
    "import pandas as pd\n",
    "import matplotlib.pyplot as plt\n",
    "import numpy as np\n",
    "from nltk.stem.snowball import PorterStemmer\n",
    "from keras.preprocessing import sequence\n",
    "from keras.preprocessing.text import Tokenizer\n",
    "import nltk\n",
    "from nltk.corpus import stopwords"
   ]
  },
  {
   "cell_type": "markdown",
   "metadata": {},
   "source": [
    "### Fetching Data"
   ]
  },
  {
   "cell_type": "code",
   "execution_count": 29,
   "metadata": {},
   "outputs": [],
   "source": [
    "dfTrain = pd.read_csv('trainingData.csv',header=None,encoding='latin-1')\n",
    "dfTest = pd.read_csv('testData.csv',header=None,encoding='latin-1')\n",
    "dfEval = pd.read_csv('evalData.csv',header=None,encoding='latin-1')"
   ]
  },
  {
   "cell_type": "code",
   "execution_count": 30,
   "metadata": {},
   "outputs": [
    {
     "data": {
      "text/html": [
       "<div>\n",
       "<style scoped>\n",
       "    .dataframe tbody tr th:only-of-type {\n",
       "        vertical-align: middle;\n",
       "    }\n",
       "\n",
       "    .dataframe tbody tr th {\n",
       "        vertical-align: top;\n",
       "    }\n",
       "\n",
       "    .dataframe thead th {\n",
       "        text-align: right;\n",
       "    }\n",
       "</style>\n",
       "<table border=\"1\" class=\"dataframe\">\n",
       "  <thead>\n",
       "    <tr style=\"text-align: right;\">\n",
       "      <th></th>\n",
       "      <th>0</th>\n",
       "      <th>1</th>\n",
       "      <th>2</th>\n",
       "    </tr>\n",
       "  </thead>\n",
       "  <tbody>\n",
       "    <tr>\n",
       "      <th>0</th>\n",
       "      <td>663_3</td>\n",
       "      <td>\"Please enable removing language code from the...</td>\n",
       "      <td>1</td>\n",
       "    </tr>\n",
       "    <tr>\n",
       "      <th>1</th>\n",
       "      <td>663_4</td>\n",
       "      <td>\"Note: in your .csproj file, there is a Suppor...</td>\n",
       "      <td>0</td>\n",
       "    </tr>\n",
       "    <tr>\n",
       "      <th>2</th>\n",
       "      <td>664_1</td>\n",
       "      <td>\"Wich means the new version not fully replaced...</td>\n",
       "      <td>0</td>\n",
       "    </tr>\n",
       "    <tr>\n",
       "      <th>3</th>\n",
       "      <td>664_2</td>\n",
       "      <td>\"Some of my users will still receive the old x...</td>\n",
       "      <td>0</td>\n",
       "    </tr>\n",
       "    <tr>\n",
       "      <th>4</th>\n",
       "      <td>664_3</td>\n",
       "      <td>\"The store randomly gives the old xap or the n...</td>\n",
       "      <td>0</td>\n",
       "    </tr>\n",
       "  </tbody>\n",
       "</table>\n",
       "</div>"
      ],
      "text/plain": [
       "       0                                                  1  2\n",
       "0  663_3  \"Please enable removing language code from the...  1\n",
       "1  663_4  \"Note: in your .csproj file, there is a Suppor...  0\n",
       "2  664_1  \"Wich means the new version not fully replaced...  0\n",
       "3  664_2  \"Some of my users will still receive the old x...  0\n",
       "4  664_3  \"The store randomly gives the old xap or the n...  0"
      ]
     },
     "execution_count": 30,
     "metadata": {},
     "output_type": "execute_result"
    }
   ],
   "source": [
    "dfTrain.head()"
   ]
  },
  {
   "cell_type": "code",
   "execution_count": 31,
   "metadata": {},
   "outputs": [
    {
     "name": "stdout",
     "output_type": "stream",
     "text": [
      "(8500,) (8500,)\n"
     ]
    }
   ],
   "source": [
    "dataTrain= dfTrain.values\n",
    "dataTrain = dataTrain[:,1:]\n",
    "dataXTrain = dataTrain[:,0]\n",
    "dataYTrain = dataTrain[:,1]\n",
    "print(dataXTrain.shape,dataYTrain.shape)"
   ]
  },
  {
   "cell_type": "code",
   "execution_count": 32,
   "metadata": {},
   "outputs": [
    {
     "name": "stdout",
     "output_type": "stream",
     "text": [
      "(593,) (593,)\n"
     ]
    }
   ],
   "source": [
    "dataTest= dfTest.values\n",
    "dataTrain = dataTest[:,1:]\n",
    "dataXTest = dataTest[:,0]\n",
    "dataYTest = dataTest[:,1]\n",
    "print(dataXTest.shape,dataYTest.shape)"
   ]
  },
  {
   "cell_type": "code",
   "execution_count": 33,
   "metadata": {},
   "outputs": [
    {
     "name": "stdout",
     "output_type": "stream",
     "text": [
      "(833,) (833,)\n"
     ]
    }
   ],
   "source": [
    "dataEval= dfEval.values\n",
    "dataEval = dataEval[:,1:]\n",
    "dataXEval = dataEval[:,0]\n",
    "dataYEval = dataEval[:,1]\n",
    "print(dataXEval.shape,dataYEval.shape)"
   ]
  },
  {
   "cell_type": "markdown",
   "metadata": {},
   "source": [
    "### Cleaning and Tokenising Data"
   ]
  },
  {
   "cell_type": "code",
   "execution_count": 34,
   "metadata": {},
   "outputs": [],
   "source": [
    "stopw = set(stopwords.words(\"english\"))\n",
    "ps = PorterStemmer()"
   ]
  },
  {
   "cell_type": "code",
   "execution_count": 35,
   "metadata": {},
   "outputs": [],
   "source": [
    "def filterData(text): \n",
    "    data = []\n",
    "    for i in text:\n",
    "        sentences = nltk.sent_tokenize(i)\n",
    "        for sent in sentences:\n",
    "            words =  nltk.word_tokenize(sent)\n",
    "            words = [w.lower() for w in words if len(w)>2 and w not in stopw]\n",
    "            words = [ps.stem(w) for w in words]\n",
    "            data.append(words)\n",
    "    return data"
   ]
  },
  {
   "cell_type": "code",
   "execution_count": 36,
   "metadata": {},
   "outputs": [
    {
     "name": "stdout",
     "output_type": "stream",
     "text": [
      "['pleas', 'enabl', 'remov', 'languag', 'code', 'dev', 'center', 'languag', 'histori', 'for', 'exampl', 'ever', 'select', 'ru-ru', 'laguag', 'publish', 'xap', 'store', 'caus', 'tile', 'local', 'show', 'en-u', 'default', 'tile', 'local', 'bad']\n"
     ]
    }
   ],
   "source": [
    "xTrain = np.array(filterData(dataXTrain))\n",
    "print(xTrain[0])"
   ]
  },
  {
   "cell_type": "code",
   "execution_count": 37,
   "metadata": {},
   "outputs": [
    {
     "name": "stdout",
     "output_type": "stream",
     "text": [
      "8450\n",
      "336\n"
     ]
    }
   ],
   "source": [
    "wordSet = set()\n",
    "maxLen = 0\n",
    "for sent in xTrain:\n",
    "    wordSet.update(sent)\n",
    "    if(maxLen<len(sent)):\n",
    "        maxLen = len(sent)\n",
    "        \n",
    "vocabSize = len(list(wordSet))\n",
    "print(vocabSize)\n",
    "print(maxLen)"
   ]
  },
  {
   "cell_type": "code",
   "execution_count": 38,
   "metadata": {},
   "outputs": [],
   "source": [
    "tokenizer_keras = Tokenizer(num_words=vocabSize)\n",
    "tokenizer_keras.fit_on_texts(list(xTrain))\n",
    "xTrain = tokenizer_keras.texts_to_sequences(xTrain)\n",
    "xTrain = sequence.pad_sequences(xTrain, maxlen=len_max)"
   ]
  },
  {
   "cell_type": "code",
   "execution_count": null,
   "metadata": {},
   "outputs": [],
   "source": []
  }
 ],
 "metadata": {
  "kernelspec": {
   "display_name": "Python 3",
   "language": "python",
   "name": "python3"
  },
  "language_info": {
   "codemirror_mode": {
    "name": "ipython",
    "version": 3
   },
   "file_extension": ".py",
   "mimetype": "text/x-python",
   "name": "python",
   "nbconvert_exporter": "python",
   "pygments_lexer": "ipython3",
   "version": "3.6.8"
  }
 },
 "nbformat": 4,
 "nbformat_minor": 2
}
