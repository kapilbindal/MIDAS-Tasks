{
 "cells": [
  {
   "cell_type": "markdown",
   "metadata": {},
   "source": [
    "### Importing Libraries"
   ]
  },
  {
   "cell_type": "code",
   "execution_count": 1,
   "metadata": {},
   "outputs": [
    {
     "name": "stderr",
     "output_type": "stream",
     "text": [
      "Using TensorFlow backend.\n"
     ]
    }
   ],
   "source": [
    "import numpy as np\n",
    "import matplotlib.pyplot as plt\n",
    "import pickle\n",
    "import pandas as pd\n",
    "from keras.utils import to_categorical\n",
    "from sklearn.model_selection import train_test_split\n",
    "from keras.layers import *\n",
    "from keras.models import Sequential\n",
    "from keras.callbacks import EarlyStopping\n",
    "from keras.callbacks import ModelCheckpoint\n",
    "from sklearn.metrics import confusion_matrix\n",
    "from sklearn.metrics import classification_report"
   ]
  },
  {
   "cell_type": "markdown",
   "metadata": {},
   "source": [
    "### Fetching and visualising Data"
   ]
  },
  {
   "cell_type": "code",
   "execution_count": 2,
   "metadata": {},
   "outputs": [],
   "source": [
    "# Training data\n",
    "with open('train_image.pkl', 'rb') as f: \n",
    "    imgData = pickle.load(f)\n",
    "with open('train_label.pkl', 'rb') as f:\n",
    "    imgLabels = pickle.load(f)"
   ]
  },
  {
   "cell_type": "code",
   "execution_count": 3,
   "metadata": {},
   "outputs": [
    {
     "name": "stdout",
     "output_type": "stream",
     "text": [
      "(8000, 784)\n",
      "(8000,)\n"
     ]
    }
   ],
   "source": [
    "imgData = np.array(imgData)\n",
    "imgLabels = np.array(imgLabels)\n",
    "print(imgData.shape)\n",
    "print(imgLabels.shape)"
   ]
  },
  {
   "cell_type": "code",
   "execution_count": 4,
   "metadata": {},
   "outputs": [
    {
     "data": {
      "image/png": "[encoded data removed]",
      "text/plain": [
       "<Figure size 432x288 with 6 Axes>"
      ]
     },
     "metadata": {
      "needs_background": "light"
     },
     "output_type": "display_data"
    }
   ],
   "source": [
    "for i in range(6):\n",
    "    plt.subplot(2,3,i+1)\n",
    "    plt.imshow(imgData[i].reshape(28,28))\n",
    "    plt.axis(\"off\")"
   ]
  },
  {
   "cell_type": "code",
   "execution_count": 5,
   "metadata": {},
   "outputs": [
    {
     "name": "stdout",
     "output_type": "stream",
     "text": [
      "[0 2 3 6]\n",
      "[0 1 2 3]\n"
     ]
    }
   ],
   "source": [
    "# As we are later going to convert labels array to array of One-Hot vectors, so we have to change the labels so as to get max value of label = total no. of classes\n",
    "print(np.unique(imgLabels)) \n",
    "for i in range(imgLabels.shape[0]):\n",
    "    imgLabels[i] = np.ceil(imgLabels[i]/2)\n",
    "print(np.unique(imgLabels))"
   ]
  },
  {
   "cell_type": "code",
   "execution_count": 6,
   "metadata": {},
   "outputs": [
    {
     "name": "stdout",
     "output_type": "stream",
     "text": [
      "(8000, 28, 28, 1) (8000, 4)\n"
     ]
    }
   ],
   "source": [
    "# As Convolutional layer takes image as input, we have to convert given 1D array to 28 X 28 image\n",
    "def preprocessData(X,Y):\n",
    "    X = X.reshape((-1,28,28,1))\n",
    "    X = X/255.0\n",
    "    Y = to_categorical(Y) # Converting yTrain to one Hot vector i.e label 0 will be represented as [1 0]\n",
    "    return X,Y\n",
    "\n",
    "XTrain,YTrain = preprocessData(imgData,imgLabels)\n",
    "print(XTrain.shape,YTrain.shape)"
   ]
  },
  {
   "cell_type": "code",
   "execution_count": 29,
   "metadata": {},
   "outputs": [
    {
     "name": "stdout",
     "output_type": "stream",
     "text": [
      "(4480, 28, 28, 1) (4480, 4) (1920, 28, 28, 1) (1920, 4)\n"
     ]
    }
   ],
   "source": [
    "XTrain, XTest, YTrain, YTest = train_test_split(XTrain, YTrain, test_size=0.3, random_state=35, shuffle=True, stratify=YTrain)\n",
    "YTrain = np.array(YTrain,dtype='int64')\n",
    "YTest = np.array(YTest,dtype='int64')\n",
    "print(XTrain.shape,YTrain.shape,XTest.shape,YTest.shape)"
   ]
  },
  {
   "cell_type": "markdown",
   "metadata": {},
   "source": [
    "### Training CNN Model"
   ]
  },
  {
   "cell_type": "code",
   "execution_count": 30,
   "metadata": {},
   "outputs": [
    {
     "name": "stdout",
     "output_type": "stream",
     "text": [
      "_________________________________________________________________\n",
      "Layer (type)                 Output Shape              Param #   \n",
      "=================================================================\n",
      "conv2d_10 (Conv2D)           (None, 26, 26, 64)        640       \n",
      "_________________________________________________________________\n",
      "max_pooling2d_7 (MaxPooling2 (None, 13, 13, 64)        0         \n",
      "_________________________________________________________________\n",
      "conv2d_11 (Conv2D)           (None, 11, 11, 64)        36928     \n",
      "_________________________________________________________________\n",
      "dropout_7 (Dropout)          (None, 11, 11, 64)        0         \n",
      "_________________________________________________________________\n",
      "max_pooling2d_8 (MaxPooling2 (None, 5, 5, 64)          0         \n",
      "_________________________________________________________________\n",
      "conv2d_12 (Conv2D)           (None, 3, 3, 128)         73856     \n",
      "_________________________________________________________________\n",
      "dropout_8 (Dropout)          (None, 3, 3, 128)         0         \n",
      "_________________________________________________________________\n",
      "flatten_4 (Flatten)          (None, 1152)              0         \n",
      "_________________________________________________________________\n",
      "dense_7 (Dense)              (None, 64)                73792     \n",
      "_________________________________________________________________\n",
      "dense_8 (Dense)              (None, 4)                 260       \n",
      "=================================================================\n",
      "Total params: 185,476\n",
      "Trainable params: 185,476\n",
      "Non-trainable params: 0\n",
      "_________________________________________________________________\n"
     ]
    }
   ],
   "source": [
    "#early stopping is used to prevent overfitting i.e trainig is stopped as soon as we get the best accuracy or least loss\n",
    "earlyStopping = EarlyStopping(min_delta = 0.001,monitor='val_acc', patience = 5)\n",
    "callback = [earlyStopping]\n",
    "\n",
    "#checkpoint to store the best fit model\n",
    "checkpoint = ModelCheckpoint(\"best_model.h5\",monitor='val_loss',verbose=True,save_best_only=True)\n",
    "\n",
    "model = Sequential()\n",
    "model.add(Conv2D(64,(3,3),activation='relu',input_shape=(28,28,1)))\n",
    "# MaxPool layer is used to reduce the params/no. of features and get the feature with max value from the filter window\n",
    "model.add(MaxPool2D((2,2)))\n",
    "model.add(Conv2D(64,(3,3),activation='relu'))\n",
    "model.add(Dropout(0.3)) # It's used to prevent overfitting by randomly removing some neurons in each epoch(reduce overfitting)\n",
    "model.add(MaxPool2D((2,2)))\n",
    "model.add(Conv2D(128,(3,3),activation='relu'))\n",
    "model.add(Dropout(0.4))\n",
    "model.add(Flatten())\n",
    "model.add(Dense(64,activation='relu'))\n",
    "model.add(Dense(4,activation='softmax'))\n",
    "model.summary()"
   ]
  },
  {
   "cell_type": "code",
   "execution_count": 31,
   "metadata": {},
   "outputs": [
    {
     "name": "stdout",
     "output_type": "stream",
     "text": [
      "Train on 3584 samples, validate on 896 samples\n",
      "Epoch 1/100\n",
      "3584/3584 [==============================] - 9s 2ms/step - loss: 0.8587 - acc: 0.6225 - val_loss: 0.7042 - val_acc: 0.6618\n",
      "\n",
      "Epoch 00001: val_loss improved from inf to 0.70420, saving model to best_model.h5\n",
      "Epoch 2/100\n",
      "3584/3584 [==============================] - 8s 2ms/step - loss: 0.6247 - acc: 0.7360 - val_loss: 0.6237 - val_acc: 0.7578\n",
      "\n",
      "Epoch 00002: val_loss improved from 0.70420 to 0.62373, saving model to best_model.h5\n",
      "Epoch 3/100\n",
      "3584/3584 [==============================] - 9s 2ms/step - loss: 0.5400 - acc: 0.7899 - val_loss: 0.5123 - val_acc: 0.8080\n",
      "\n",
      "Epoch 00003: val_loss improved from 0.62373 to 0.51229, saving model to best_model.h5\n",
      "Epoch 4/100\n",
      "3584/3584 [==============================] - 8s 2ms/step - loss: 0.5118 - acc: 0.7893 - val_loss: 0.4864 - val_acc: 0.8136\n",
      "\n",
      "Epoch 00004: val_loss improved from 0.51229 to 0.48638, saving model to best_model.h5\n",
      "Epoch 5/100\n",
      "3584/3584 [==============================] - 8s 2ms/step - loss: 0.4587 - acc: 0.8184 - val_loss: 0.4624 - val_acc: 0.8281\n",
      "\n",
      "Epoch 00005: val_loss improved from 0.48638 to 0.46235, saving model to best_model.h5\n",
      "Epoch 6/100\n",
      "3584/3584 [==============================] - 8s 2ms/step - loss: 0.4426 - acc: 0.8267 - val_loss: 0.4447 - val_acc: 0.8304\n",
      "\n",
      "Epoch 00006: val_loss improved from 0.46235 to 0.44472, saving model to best_model.h5\n",
      "Epoch 7/100\n",
      "3584/3584 [==============================] - 8s 2ms/step - loss: 0.4138 - acc: 0.8373 - val_loss: 0.4399 - val_acc: 0.8292\n",
      "\n",
      "Epoch 00007: val_loss improved from 0.44472 to 0.43992, saving model to best_model.h5\n",
      "Epoch 8/100\n",
      "3584/3584 [==============================] - 9s 2ms/step - loss: 0.3958 - acc: 0.8415 - val_loss: 0.4416 - val_acc: 0.8214\n",
      "\n",
      "Epoch 00008: val_loss did not improve from 0.43992\n",
      "Epoch 9/100\n",
      "3584/3584 [==============================] - 8s 2ms/step - loss: 0.3837 - acc: 0.8460 - val_loss: 0.4169 - val_acc: 0.8426\n",
      "\n",
      "Epoch 00009: val_loss improved from 0.43992 to 0.41690, saving model to best_model.h5\n",
      "Epoch 10/100\n",
      "3584/3584 [==============================] - 8s 2ms/step - loss: 0.3541 - acc: 0.8613 - val_loss: 0.4061 - val_acc: 0.8460\n",
      "\n",
      "Epoch 00010: val_loss improved from 0.41690 to 0.40612, saving model to best_model.h5\n",
      "Epoch 11/100\n",
      "3584/3584 [==============================] - 8s 2ms/step - loss: 0.3379 - acc: 0.8644 - val_loss: 0.4077 - val_acc: 0.8449\n",
      "\n",
      "Epoch 00011: val_loss did not improve from 0.40612\n",
      "Epoch 12/100\n",
      "3584/3584 [==============================] - 8s 2ms/step - loss: 0.3222 - acc: 0.8756 - val_loss: 0.3875 - val_acc: 0.8594\n",
      "\n",
      "Epoch 00012: val_loss improved from 0.40612 to 0.38753, saving model to best_model.h5\n",
      "Epoch 13/100\n",
      "3584/3584 [==============================] - 8s 2ms/step - loss: 0.3110 - acc: 0.8764 - val_loss: 0.4211 - val_acc: 0.8404\n",
      "\n",
      "Epoch 00013: val_loss did not improve from 0.38753\n",
      "Epoch 14/100\n",
      "3584/3584 [==============================] - 8s 2ms/step - loss: 0.2953 - acc: 0.8834 - val_loss: 0.3885 - val_acc: 0.8571\n",
      "\n",
      "Epoch 00014: val_loss did not improve from 0.38753\n",
      "Epoch 15/100\n",
      "3584/3584 [==============================] - 8s 2ms/step - loss: 0.2878 - acc: 0.8853 - val_loss: 0.3936 - val_acc: 0.8583\n",
      "\n",
      "Epoch 00015: val_loss did not improve from 0.38753\n",
      "Epoch 16/100\n",
      "3584/3584 [==============================] - 8s 2ms/step - loss: 0.2789 - acc: 0.8878 - val_loss: 0.3858 - val_acc: 0.8594\n",
      "\n",
      "Epoch 00016: val_loss improved from 0.38753 to 0.38581, saving model to best_model.h5\n",
      "Epoch 17/100\n",
      "3584/3584 [==============================] - 8s 2ms/step - loss: 0.2540 - acc: 0.8982 - val_loss: 0.3635 - val_acc: 0.8627\n",
      "\n",
      "Epoch 00017: val_loss improved from 0.38581 to 0.36351, saving model to best_model.h5\n",
      "Epoch 18/100\n",
      "3584/3584 [==============================] - 8s 2ms/step - loss: 0.2493 - acc: 0.8970 - val_loss: 0.3976 - val_acc: 0.8415\n",
      "\n",
      "Epoch 00018: val_loss did not improve from 0.36351\n",
      "Epoch 19/100\n",
      "3584/3584 [==============================] - 8s 2ms/step - loss: 0.2228 - acc: 0.9135 - val_loss: 0.3816 - val_acc: 0.8594\n",
      "\n",
      "Epoch 00019: val_loss did not improve from 0.36351\n",
      "Epoch 20/100\n",
      "3584/3584 [==============================] - 8s 2ms/step - loss: 0.2171 - acc: 0.9110 - val_loss: 0.4002 - val_acc: 0.8560\n",
      "\n",
      "Epoch 00020: val_loss did not improve from 0.36351\n",
      "Epoch 21/100\n",
      "3584/3584 [==============================] - 8s 2ms/step - loss: 0.2234 - acc: 0.9141 - val_loss: 0.3810 - val_acc: 0.8594\n",
      "\n",
      "Epoch 00021: val_loss did not improve from 0.36351\n",
      "Epoch 22/100\n",
      "3584/3584 [==============================] - 8s 2ms/step - loss: 0.2016 - acc: 0.9208 - val_loss: 0.4122 - val_acc: 0.8516\n",
      "\n",
      "Epoch 00022: val_loss did not improve from 0.36351\n"
     ]
    }
   ],
   "source": [
    "# Using Callbacks for earlyStopping and checkpoint\n",
    "model.compile(optimizer='adam',loss='categorical_crossentropy',metrics=['acc'])\n",
    "hist = model.fit(XTrain,YTrain,batch_size=32,epochs=100,shuffle=True,validation_split=0.2,callbacks=[checkpoint,earlyStopping])"
   ]
  },
  {
   "cell_type": "markdown",
   "metadata": {},
   "source": [
    "### Predicting and Evaluating"
   ]
  },
  {
   "cell_type": "code",
   "execution_count": 32,
   "metadata": {},
   "outputs": [
    {
     "name": "stdout",
     "output_type": "stream",
     "text": [
      "1920/1920 [==============================] - 1s 568us/step\n"
     ]
    },
    {
     "data": {
      "text/plain": [
       "[0.35394259802997113, 0.8635416666666667]"
      ]
     },
     "execution_count": 32,
     "metadata": {},
     "output_type": "execute_result"
    }
   ],
   "source": [
    "model.load_weights('best_model.h5')\n",
    "model.evaluate(XTest,YTest)"
   ]
  },
  {
   "cell_type": "code",
   "execution_count": 33,
   "metadata": {},
   "outputs": [
    {
     "data": {
      "image/png": "[encoded data removed]",
      "text/plain": [
       "<Figure size 432x288 with 2 Axes>"
      ]
     },
     "metadata": {
      "needs_background": "light"
     },
     "output_type": "display_data"
    }
   ],
   "source": [
    "# Visualising Loss and Accuracy\n",
    "plt.subplot(1,3,1)\n",
    "plt.title('Loss')\n",
    "plt.xlabel('Epoch')\n",
    "plt.ylabel('Loss')\n",
    "plt.plot(hist.history['loss'])\n",
    "plt.plot(hist.history['val_loss'])\n",
    "plt.legend(['Train', 'Validation'])\n",
    "\n",
    "plt.subplot(1,3,3)\n",
    "plt.title('Accuracy')\n",
    "plt.xlabel('Epoch')\n",
    "plt.ylabel('Accuracy')\n",
    "plt.plot(hist.history['acc'])\n",
    "plt.plot(hist.history['val_acc'])\n",
    "plt.legend(['Train', 'Validation'])\n",
    "plt.show()"
   ]
  },
  {
   "cell_type": "code",
   "execution_count": 34,
   "metadata": {},
   "outputs": [],
   "source": [
    "predXTrain = model.predict_classes(XTrain)\n",
    "predXTest = model.predict_classes(XTest)\n",
    "# Converting One-Hot vectors to orignal form\n",
    "YTrainActual = np.argmax(YTrain,axis=1) \n",
    "YTestActual = np.argmax(YTest,axis=1)"
   ]
  },
  {
   "cell_type": "code",
   "execution_count": 35,
   "metadata": {},
   "outputs": [],
   "source": [
    "cnfTrain = confusion_matrix(predXTrain,YTrainActual)\n",
    "cnfTest = confusion_matrix(predXTest,YTestActual)"
   ]
  },
  {
   "cell_type": "code",
   "execution_count": 36,
   "metadata": {},
   "outputs": [],
   "source": [
    "# Function ot visualize confusion matrix\n",
    "import itertools\n",
    "def plot_confusion_matrix(cm, classes,\n",
    "                          normalize=False,\n",
    "                          title='Confusion matrix',\n",
    "                          cmap=plt.cm.Blues):\n",
    "    \"\"\"\n",
    "    This function prints and plots the confusion matrix.\n",
    "    Normalization can be applied by setting `normalize=True`.\n",
    "    \"\"\"\n",
    "    if normalize:\n",
    "        cm = cm.astype('float') / cm.sum(axis=1)[:, np.newaxis]\n",
    "        print(\"Normalized confusion matrix\")\n",
    "    else:\n",
    "        print('Confusion matrix, without normalization')\n",
    "\n",
    "    print(cm)\n",
    "\n",
    "    plt.imshow(cm, interpolation='nearest', cmap=cmap)\n",
    "    plt.title(title)\n",
    "    plt.colorbar()\n",
    "    tick_marks = np.arange(len(classes))\n",
    "    plt.xticks(tick_marks, classes, rotation=45)\n",
    "    plt.yticks(tick_marks, classes)\n",
    "\n",
    "    fmt = '.2f' if normalize else 'd'\n",
    "    thresh = cm.max() / 2.\n",
    "    for i, j in itertools.product(range(cm.shape[0]), range(cm.shape[1])):\n",
    "        plt.text(j, i, format(cm[i, j], fmt),\n",
    "                 horizontalalignment=\"center\",\n",
    "                 color=\"white\" if cm[i, j] > thresh else \"black\")\n",
    "\n",
    "    plt.ylabel('True label')\n",
    "    plt.xlabel('Predicted label')\n",
    "    plt.tight_layout()"
   ]
  },
  {
   "cell_type": "markdown",
   "metadata": {},
   "source": [
    "#### Confusion Matrix for Train Data"
   ]
  },
  {
   "cell_type": "code",
   "execution_count": 37,
   "metadata": {},
   "outputs": [
    {
     "name": "stdout",
     "output_type": "stream",
     "text": [
      "Confusion matrix, without normalization\n",
      "[[1035    9   13   84]\n",
      " [   6 1064    5   66]\n",
      " [  16    5 1085   21]\n",
      " [  63   42   17  949]]\n"
     ]
    },
    {
     "data": {
      "image/png": "[encoded data removed]",
      "text/plain": [
       "<Figure size 432x288 with 2 Axes>"
      ]
     },
     "metadata": {
      "needs_background": "light"
     },
     "output_type": "display_data"
    }
   ],
   "source": [
    "plot_confusion_matrix(cnfTrain,classes=[0,1,2,3],title=\"Confusion Matrix Train\")"
   ]
  },
  {
   "cell_type": "markdown",
   "metadata": {},
   "source": [
    "#### Confusion Matrix for Test Data"
   ]
  },
  {
   "cell_type": "code",
   "execution_count": 38,
   "metadata": {},
   "outputs": [
    {
     "name": "stdout",
     "output_type": "stream",
     "text": [
      "Confusion matrix, without normalization\n",
      "[[408   6  15  60]\n",
      " [ 12 444   2  50]\n",
      " [  9   4 452  16]\n",
      " [ 51  26  11 354]]\n"
     ]
    },
    {
     "data": {
      "image/png": "[encoded data removed]",
      "text/plain": [
       "<Figure size 432x288 with 2 Axes>"
      ]
     },
     "metadata": {
      "needs_background": "light"
     },
     "output_type": "display_data"
    }
   ],
   "source": [
    "plot_confusion_matrix(cnfTest,classes=[0,1,2,3],title=\"Confusion Matrix Test\")"
   ]
  },
  {
   "cell_type": "code",
   "execution_count": 39,
   "metadata": {},
   "outputs": [
    {
     "name": "stdout",
     "output_type": "stream",
     "text": [
      "              precision    recall  f1-score   support\n",
      "\n",
      "           0       0.85      0.83      0.84       489\n",
      "           1       0.93      0.87      0.90       508\n",
      "           2       0.94      0.94      0.94       481\n",
      "           3       0.74      0.80      0.77       442\n",
      "\n",
      "   micro avg       0.86      0.86      0.86      1920\n",
      "   macro avg       0.86      0.86      0.86      1920\n",
      "weighted avg       0.87      0.86      0.86      1920\n",
      "\n"
     ]
    }
   ],
   "source": [
    "print(classification_report(predXTest,YTestActual))"
   ]
  },
  {
   "cell_type": "markdown",
   "metadata": {},
   "source": [
    "#### F1-score = 0.86"
   ]
  },
  {
   "cell_type": "markdown",
   "metadata": {},
   "source": [
    "### Generating Submission File"
   ]
  },
  {
   "cell_type": "code",
   "execution_count": 40,
   "metadata": {},
   "outputs": [],
   "source": [
    "# Testing Data\n",
    "with open('test_image.pkl', 'rb') as f:\n",
    "    testData = pickle.load(f)"
   ]
  },
  {
   "cell_type": "code",
   "execution_count": 41,
   "metadata": {},
   "outputs": [
    {
     "name": "stdout",
     "output_type": "stream",
     "text": [
      "(2000, 784)\n"
     ]
    },
    {
     "data": {
      "image/png": "[encoded data removed]",
      "text/plain": [
       "<Figure size 432x288 with 3 Axes>"
      ]
     },
     "metadata": {
      "needs_background": "light"
     },
     "output_type": "display_data"
    }
   ],
   "source": [
    "testData = np.array(testData)\n",
    "print(testData.shape)\n",
    "for i in range(3):\n",
    "    plt.subplot(1,3,i+1)\n",
    "    plt.imshow(testData[i].reshape(28,28))\n",
    "    plt.axis(\"off\")"
   ]
  },
  {
   "cell_type": "code",
   "execution_count": 42,
   "metadata": {},
   "outputs": [
    {
     "name": "stdout",
     "output_type": "stream",
     "text": [
      "(2000, 28, 28, 1)\n"
     ]
    }
   ],
   "source": [
    "XTest = testData.reshape((-1,28,28,1))\n",
    "XTest = XTest/255.0\n",
    "print(XTest.shape)"
   ]
  },
  {
   "cell_type": "code",
   "execution_count": 43,
   "metadata": {},
   "outputs": [],
   "source": [
    "prediction = model.predict_classes(XTest) "
   ]
  },
  {
   "cell_type": "code",
   "execution_count": 44,
   "metadata": {},
   "outputs": [],
   "source": [
    "for i in range (prediction.shape[0]):\n",
    "    if(prediction[i] == 1):\n",
    "        prediction[i] = 2\n",
    "    elif(prediction[i] == 2):\n",
    "        prediction[i] = 3\n",
    "    elif(prediction[i] == 3):\n",
    "        prediction[i] = 6"
   ]
  },
  {
   "cell_type": "code",
   "execution_count": 49,
   "metadata": {},
   "outputs": [
    {
     "data": {
      "text/html": [
       "<div>\n",
       "<style scoped>\n",
       "    .dataframe tbody tr th:only-of-type {\n",
       "        vertical-align: middle;\n",
       "    }\n",
       "\n",
       "    .dataframe tbody tr th {\n",
       "        vertical-align: top;\n",
       "    }\n",
       "\n",
       "    .dataframe thead th {\n",
       "        text-align: right;\n",
       "    }\n",
       "</style>\n",
       "<table border=\"1\" class=\"dataframe\">\n",
       "  <thead>\n",
       "    <tr style=\"text-align: right;\">\n",
       "      <th></th>\n",
       "      <th>Predicted Labels</th>\n",
       "    </tr>\n",
       "  </thead>\n",
       "  <tbody>\n",
       "    <tr>\n",
       "      <th>0</th>\n",
       "      <td>0</td>\n",
       "    </tr>\n",
       "    <tr>\n",
       "      <th>1</th>\n",
       "      <td>0</td>\n",
       "    </tr>\n",
       "    <tr>\n",
       "      <th>2</th>\n",
       "      <td>0</td>\n",
       "    </tr>\n",
       "    <tr>\n",
       "      <th>3</th>\n",
       "      <td>0</td>\n",
       "    </tr>\n",
       "    <tr>\n",
       "      <th>4</th>\n",
       "      <td>0</td>\n",
       "    </tr>\n",
       "  </tbody>\n",
       "</table>\n",
       "</div>"
      ],
      "text/plain": [
       "   Predicted Labels\n",
       "0                 0\n",
       "1                 0\n",
       "2                 0\n",
       "3                 0\n",
       "4                 0"
      ]
     },
     "execution_count": 49,
     "metadata": {},
     "output_type": "execute_result"
    }
   ],
   "source": [
    "predDF = pd.DataFrame(prediction)\n",
    "predDF.columns = ['Predicted Labels']\n",
    "predDF.head()"
   ]
  },
  {
   "cell_type": "code",
   "execution_count": 51,
   "metadata": {},
   "outputs": [],
   "source": [
    "predDF.to_csv(\"kapil_gupta.csv\")"
   ]
  },
  {
   "cell_type": "code",
   "execution_count": null,
   "metadata": {},
   "outputs": [],
   "source": []
  }
 ],
 "metadata": {
  "kernelspec": {
   "display_name": "Python 3",
   "language": "python",
   "name": "python3"
  },
  "language_info": {
   "codemirror_mode": {
    "name": "ipython",
    "version": 3
   },
   "file_extension": ".py",
   "mimetype": "text/x-python",
   "name": "python",
   "nbconvert_exporter": "python",
   "pygments_lexer": "ipython3",
   "version": "3.6.8"
  }
 },
 "nbformat": 4,
 "nbformat_minor": 2
}
