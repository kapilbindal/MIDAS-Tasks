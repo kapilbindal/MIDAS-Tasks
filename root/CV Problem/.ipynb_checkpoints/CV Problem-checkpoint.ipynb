{
 "cells": [
  {
   "cell_type": "markdown",
   "metadata": {},
   "source": [
    "### Importing Libraries"
   ]
  },
  {
   "cell_type": "code",
   "execution_count": 178,
   "metadata": {},
   "outputs": [],
   "source": [
    "import numpy as np\n",
    "import matplotlib.pyplot as plt\n",
    "import pickle\n",
    "import pandas as pd\n",
    "from keras.utils import to_categorical\n",
    "from sklearn.model_selection import train_test_split\n",
    "from keras.layers import *\n",
    "from keras.models import Sequential\n",
    "from keras.callbacks import EarlyStopping\n",
    "from keras.callbacks import ModelCheckpoint\n",
    "from sklearn.metrics import confusion_matrix\n",
    "from sklearn.metrics import classification_report"
   ]
  },
  {
   "cell_type": "markdown",
   "metadata": {},
   "source": [
    "### Fetching and visualising Data"
   ]
  },
  {
   "cell_type": "code",
   "execution_count": 143,
   "metadata": {},
   "outputs": [],
   "source": [
    "# Training data\n",
    "with open('train_image.pkl', 'rb') as f: \n",
    "    imgData = pickle.load(f)\n",
    "with open('train_label.pkl', 'rb') as f:\n",
    "    imgLabels = pickle.load(f)"
   ]
  },
  {
   "cell_type": "code",
   "execution_count": 216,
   "metadata": {},
   "outputs": [
    {
     "name": "stdout",
     "output_type": "stream",
     "text": [
      "(8000, 784)\n",
      "(8000,)\n"
     ]
    }
   ],
   "source": [
    "imgData = np.array(imgData)\n",
    "imgLabels = np.array(imgLabels)\n",
    "print(imgData.shape)\n",
    "print(imgLabels.shape)"
   ]
  },
  {
   "cell_type": "code",
   "execution_count": 213,
   "metadata": {},
   "outputs": [
    {
     "data": {
      "image/png": "[encoded data removed]",
      "text/plain": [
       "<Figure size 432x288 with 6 Axes>"
      ]
     },
     "metadata": {
      "needs_background": "light"
     },
     "output_type": "display_data"
    }
   ],
   "source": [
    "for i in range(6):\n",
    "    plt.subplot(2,3,i+1)\n",
    "    plt.imshow(imgData[i].reshape(28,28))\n",
    "    plt.axis(\"off\")"
   ]
  },
  {
   "cell_type": "code",
   "execution_count": 146,
   "metadata": {},
   "outputs": [
    {
     "name": "stdout",
     "output_type": "stream",
     "text": [
      "[0 2 3 6]\n",
      "[0 1 2 3]\n"
     ]
    }
   ],
   "source": [
    "# As we are later going to convert labels array to array of One-Hot vectors, so we have to change the labels so as to get max value of label = total no. of classes\n",
    "print(np.unique(imgLabels)) \n",
    "for i in range(imgLabels.shape[0]):\n",
    "    imgLabels[i] = np.ceil(imgLabels[i]/2)\n",
    "print(np.unique(imgLabels))"
   ]
  },
  {
   "cell_type": "code",
   "execution_count": 158,
   "metadata": {},
   "outputs": [
    {
     "name": "stdout",
     "output_type": "stream",
     "text": [
      "(8000, 28, 28, 1) (8000, 4)\n",
      "(2000, 28, 28, 1)\n"
     ]
    }
   ],
   "source": [
    "# As Convolutional layer takes image as input, we have to convert given 1D array to 28 X 28 image\n",
    "def preprocessData(X,Y):\n",
    "    X = X.reshape((-1,28,28,1))\n",
    "    X = X/255.0\n",
    "    Y = to_categorical(Y) # Converting yTrain to one Hot vector i.e label 0 will be represented as [1 0]\n",
    "    return X,Y\n",
    "\n",
    "XTrain,YTrain = preprocess_data(data,imgLabels)\n",
    "print(XTrain.shape,YTrain.shape)"
   ]
  },
  {
   "cell_type": "code",
   "execution_count": 159,
   "metadata": {},
   "outputs": [
    {
     "name": "stdout",
     "output_type": "stream",
     "text": [
      "(6400, 28, 28, 1) (6400, 4) (1600, 28, 28, 1) (1600, 4)\n"
     ]
    }
   ],
   "source": [
    "XTrain, XTest, YTrain, YTest = train_test_split(XTrain, YTrain, test_size=0.2, random_state=35, shuffle=True, stratify=YTrain)\n",
    "YTrain = np.array(YTrain,dtype='int64')\n",
    "YTest = np.array(YTest,dtype='int64')\n",
    "print(XTrain.shape,YTrain.shape,XTest.shape,YTest.shape)"
   ]
  },
  {
   "cell_type": "markdown",
   "metadata": {},
   "source": [
    "### Training CNN Model"
   ]
  },
  {
   "cell_type": "code",
   "execution_count": 188,
   "metadata": {},
   "outputs": [
    {
     "name": "stdout",
     "output_type": "stream",
     "text": [
      "_________________________________________________________________\n",
      "Layer (type)                 Output Shape              Param #   \n",
      "=================================================================\n",
      "conv2d_22 (Conv2D)           (None, 26, 26, 64)        640       \n",
      "_________________________________________________________________\n",
      "max_pooling2d_15 (MaxPooling (None, 13, 13, 64)        0         \n",
      "_________________________________________________________________\n",
      "conv2d_23 (Conv2D)           (None, 11, 11, 64)        36928     \n",
      "_________________________________________________________________\n",
      "dropout_5 (Dropout)          (None, 11, 11, 64)        0         \n",
      "_________________________________________________________________\n",
      "max_pooling2d_16 (MaxPooling (None, 5, 5, 64)          0         \n",
      "_________________________________________________________________\n",
      "conv2d_24 (Conv2D)           (None, 3, 3, 128)         73856     \n",
      "_________________________________________________________________\n",
      "dropout_6 (Dropout)          (None, 3, 3, 128)         0         \n",
      "_________________________________________________________________\n",
      "flatten_8 (Flatten)          (None, 1152)              0         \n",
      "_________________________________________________________________\n",
      "dense_15 (Dense)             (None, 64)                73792     \n",
      "_________________________________________________________________\n",
      "dense_16 (Dense)             (None, 4)                 260       \n",
      "=================================================================\n",
      "Total params: 185,476\n",
      "Trainable params: 185,476\n",
      "Non-trainable params: 0\n",
      "_________________________________________________________________\n"
     ]
    }
   ],
   "source": [
    "#early stopping is used to prevent overfitting i.e trainig is stopped as soon as we get the best accuracy or least loss\n",
    "earlyStopping = EarlyStopping(min_delta = 0.001,monitor='val_acc', patience = 5)\n",
    "callback = [earlyStopping]\n",
    "\n",
    "#checkpoint to store the best fit model\n",
    "checkpoint = ModelCheckpoint(\"best_model.h5\",monitor='val_loss',verbose=True,save_best_only=True)\n",
    "\n",
    "model = Sequential()\n",
    "model.add(Conv2D(64,(3,3),activation='relu',input_shape=(28,28,1)))\n",
    "# MaxPool layer is used to reduce the params/no. of features and get the feature with max value from the filter window\n",
    "model.add(MaxPool2D((2,2)))\n",
    "model.add(Conv2D(64,(3,3),activation='relu'))\n",
    "model.add(Dropout(0.3)) # It's used to prevent overfitting by randomly removing some neurons in each epoch(reduce overfitting)\n",
    "model.add(MaxPool2D((2,2)))\n",
    "model.add(Conv2D(128,(3,3),activation='relu'))\n",
    "model.add(Dropout(0.4))\n",
    "model.add(Flatten())\n",
    "model.add(Dense(64,activation='relu'))\n",
    "model.add(Dense(4,activation='softmax'))\n",
    "model.summary()"
   ]
  },
  {
   "cell_type": "code",
   "execution_count": 189,
   "metadata": {},
   "outputs": [
    {
     "name": "stdout",
     "output_type": "stream",
     "text": [
      "Train on 5120 samples, validate on 1280 samples\n",
      "Epoch 1/100\n",
      "5120/5120 [==============================] - 13s 3ms/step - loss: 0.7936 - acc: 0.6420 - val_loss: 0.6335 - val_acc: 0.7008\n",
      "\n",
      "Epoch 00001: val_loss improved from inf to 0.63348, saving model to best_model.h5\n",
      "Epoch 2/100\n",
      "5120/5120 [==============================] - 12s 2ms/step - loss: 0.5925 - acc: 0.7473 - val_loss: 0.5221 - val_acc: 0.8000\n",
      "\n",
      "Epoch 00002: val_loss improved from 0.63348 to 0.52207, saving model to best_model.h5\n",
      "Epoch 3/100\n",
      "5120/5120 [==============================] - 12s 2ms/step - loss: 0.5133 - acc: 0.7893 - val_loss: 0.4612 - val_acc: 0.8195\n",
      "\n",
      "Epoch 00003: val_loss improved from 0.52207 to 0.46117, saving model to best_model.h5\n",
      "Epoch 4/100\n",
      "5120/5120 [==============================] - 12s 2ms/step - loss: 0.4557 - acc: 0.8215 - val_loss: 0.4661 - val_acc: 0.8086\n",
      "\n",
      "Epoch 00004: val_loss did not improve from 0.46117\n",
      "Epoch 5/100\n",
      "5120/5120 [==============================] - 12s 2ms/step - loss: 0.4164 - acc: 0.8371 - val_loss: 0.4330 - val_acc: 0.8281\n",
      "\n",
      "Epoch 00005: val_loss improved from 0.46117 to 0.43295, saving model to best_model.h5\n",
      "Epoch 6/100\n",
      "5120/5120 [==============================] - 12s 2ms/step - loss: 0.3927 - acc: 0.8473 - val_loss: 0.3987 - val_acc: 0.8430\n",
      "\n",
      "Epoch 00006: val_loss improved from 0.43295 to 0.39868, saving model to best_model.h5\n",
      "Epoch 7/100\n",
      "5120/5120 [==============================] - 12s 2ms/step - loss: 0.3667 - acc: 0.8600 - val_loss: 0.3878 - val_acc: 0.8414\n",
      "\n",
      "Epoch 00007: val_loss improved from 0.39868 to 0.38780, saving model to best_model.h5\n",
      "Epoch 8/100\n",
      "5120/5120 [==============================] - 12s 2ms/step - loss: 0.3434 - acc: 0.8598 - val_loss: 0.3703 - val_acc: 0.8562\n",
      "\n",
      "Epoch 00008: val_loss improved from 0.38780 to 0.37033, saving model to best_model.h5\n",
      "Epoch 9/100\n",
      "5120/5120 [==============================] - 12s 2ms/step - loss: 0.3285 - acc: 0.8689 - val_loss: 0.3513 - val_acc: 0.8648\n",
      "\n",
      "Epoch 00009: val_loss improved from 0.37033 to 0.35134, saving model to best_model.h5\n",
      "Epoch 10/100\n",
      "5120/5120 [==============================] - 12s 2ms/step - loss: 0.3246 - acc: 0.8727 - val_loss: 0.3764 - val_acc: 0.8516\n",
      "\n",
      "Epoch 00010: val_loss did not improve from 0.35134\n",
      "Epoch 11/100\n",
      "5120/5120 [==============================] - 12s 2ms/step - loss: 0.3026 - acc: 0.8824 - val_loss: 0.3586 - val_acc: 0.8664\n",
      "\n",
      "Epoch 00011: val_loss did not improve from 0.35134\n",
      "Epoch 12/100\n",
      "5120/5120 [==============================] - 12s 2ms/step - loss: 0.2865 - acc: 0.8857 - val_loss: 0.3624 - val_acc: 0.8547\n",
      "\n",
      "Epoch 00012: val_loss did not improve from 0.35134\n",
      "Epoch 13/100\n",
      "5120/5120 [==============================] - 12s 2ms/step - loss: 0.2855 - acc: 0.8891 - val_loss: 0.3413 - val_acc: 0.8727\n",
      "\n",
      "Epoch 00013: val_loss improved from 0.35134 to 0.34133, saving model to best_model.h5\n",
      "Epoch 14/100\n",
      "5120/5120 [==============================] - 12s 2ms/step - loss: 0.2687 - acc: 0.8920 - val_loss: 0.3545 - val_acc: 0.8578\n",
      "\n",
      "Epoch 00014: val_loss did not improve from 0.34133\n",
      "Epoch 15/100\n",
      "5120/5120 [==============================] - 12s 2ms/step - loss: 0.2489 - acc: 0.9041 - val_loss: 0.3462 - val_acc: 0.8688\n",
      "\n",
      "Epoch 00015: val_loss did not improve from 0.34133\n",
      "Epoch 16/100\n",
      "5120/5120 [==============================] - 12s 2ms/step - loss: 0.2327 - acc: 0.9107 - val_loss: 0.3610 - val_acc: 0.8656\n",
      "\n",
      "Epoch 00016: val_loss did not improve from 0.34133\n",
      "Epoch 17/100\n",
      "5120/5120 [==============================] - 14s 3ms/step - loss: 0.2224 - acc: 0.9146 - val_loss: 0.3483 - val_acc: 0.8742\n",
      "\n",
      "Epoch 00017: val_loss did not improve from 0.34133\n",
      "Epoch 18/100\n",
      "5120/5120 [==============================] - 14s 3ms/step - loss: 0.2302 - acc: 0.9080 - val_loss: 0.3656 - val_acc: 0.8688\n",
      "\n",
      "Epoch 00018: val_loss did not improve from 0.34133\n",
      "Epoch 19/100\n",
      "5120/5120 [==============================] - 15s 3ms/step - loss: 0.2129 - acc: 0.9133 - val_loss: 0.3559 - val_acc: 0.8656\n",
      "\n",
      "Epoch 00019: val_loss did not improve from 0.34133\n",
      "Epoch 20/100\n",
      "5120/5120 [==============================] - 14s 3ms/step - loss: 0.2061 - acc: 0.9152 - val_loss: 0.3370 - val_acc: 0.8734\n",
      "\n",
      "Epoch 00020: val_loss improved from 0.34133 to 0.33700, saving model to best_model.h5\n",
      "Epoch 21/100\n",
      "5120/5120 [==============================] - 13s 3ms/step - loss: 0.1892 - acc: 0.9248 - val_loss: 0.3384 - val_acc: 0.8742\n",
      "\n",
      "Epoch 00021: val_loss did not improve from 0.33700\n",
      "Epoch 22/100\n",
      "5120/5120 [==============================] - 12s 2ms/step - loss: 0.1856 - acc: 0.9270 - val_loss: 0.3556 - val_acc: 0.8812\n",
      "\n",
      "Epoch 00022: val_loss did not improve from 0.33700\n",
      "Epoch 23/100\n",
      "5120/5120 [==============================] - 12s 2ms/step - loss: 0.1866 - acc: 0.9266 - val_loss: 0.3711 - val_acc: 0.8688\n",
      "\n",
      "Epoch 00023: val_loss did not improve from 0.33700\n",
      "Epoch 24/100\n",
      "5120/5120 [==============================] - 12s 2ms/step - loss: 0.1738 - acc: 0.9309 - val_loss: 0.3609 - val_acc: 0.8695\n",
      "\n",
      "Epoch 00024: val_loss did not improve from 0.33700\n",
      "Epoch 25/100\n",
      "5120/5120 [==============================] - 12s 2ms/step - loss: 0.1571 - acc: 0.9404 - val_loss: 0.3507 - val_acc: 0.8812\n",
      "\n",
      "Epoch 00025: val_loss did not improve from 0.33700\n",
      "Epoch 26/100\n",
      "5120/5120 [==============================] - 13s 3ms/step - loss: 0.1529 - acc: 0.9406 - val_loss: 0.3681 - val_acc: 0.8727\n",
      "\n",
      "Epoch 00026: val_loss did not improve from 0.33700\n",
      "Epoch 27/100\n",
      "5120/5120 [==============================] - 13s 3ms/step - loss: 0.1464 - acc: 0.9451 - val_loss: 0.3842 - val_acc: 0.8703\n",
      "\n",
      "Epoch 00027: val_loss did not improve from 0.33700\n"
     ]
    }
   ],
   "source": [
    "# Using Callbacks for earlyStopping and checkpoint\n",
    "model.compile(optimizer='adam',loss='categorical_crossentropy',metrics=['acc'])\n",
    "hist = model.fit(XTrain,YTrain,batch_size=32,epochs=100,shuffle=True,validation_split=0.2,callbacks=[checkpoint,earlyStopping])"
   ]
  },
  {
   "cell_type": "markdown",
   "metadata": {},
   "source": [
    "### Predicting and Evaluating"
   ]
  },
  {
   "cell_type": "code",
   "execution_count": 192,
   "metadata": {},
   "outputs": [
    {
     "name": "stdout",
     "output_type": "stream",
     "text": [
      "1600/1600 [==============================] - 1s 584us/step\n"
     ]
    },
    {
     "data": {
      "text/plain": [
       "[0.39136930838227274, 0.86125]"
      ]
     },
     "execution_count": 192,
     "metadata": {},
     "output_type": "execute_result"
    }
   ],
   "source": [
    "model.load_weights('best_model.h5')\n",
    "model.evaluate(XTest,YTest)"
   ]
  },
  {
   "cell_type": "code",
   "execution_count": 203,
   "metadata": {},
   "outputs": [
    {
     "data": {
      "image/png": "[encoded data removed]",
      "text/plain": [
       "<Figure size 432x288 with 2 Axes>"
      ]
     },
     "metadata": {
      "needs_background": "light"
     },
     "output_type": "display_data"
    }
   ],
   "source": [
    "# Visualising Loss and Accuracy\n",
    "plt.subplot(1,3,1)\n",
    "plt.title('Loss')\n",
    "plt.xlabel('Epoch')\n",
    "plt.ylabel('Loss')\n",
    "plt.plot(hist.history['loss'])\n",
    "plt.plot(hist.history['val_loss'])\n",
    "plt.legend(['Train', 'Validation'])\n",
    "\n",
    "plt.subplot(1,3,3)\n",
    "plt.title('Accuracy')\n",
    "plt.xlabel('Epoch')\n",
    "plt.ylabel('Accuracy')\n",
    "plt.plot(hist.history['acc'])\n",
    "plt.plot(hist.history['val_acc'])\n",
    "plt.legend(['Train', 'Validation'])\n",
    "plt.show()"
   ]
  },
  {
   "cell_type": "code",
   "execution_count": 193,
   "metadata": {},
   "outputs": [],
   "source": [
    "predXTrain = model.predict_classes(XTrain)\n",
    "predXTest = model.predict_classes(XTest)\n",
    "# Converting One-Hot vectors to orignal form\n",
    "YTrainActual = np.argmax(YTrain,axis=1) \n",
    "YTestActual = np.argmax(YTest,axis=1)"
   ]
  },
  {
   "cell_type": "code",
   "execution_count": 194,
   "metadata": {},
   "outputs": [],
   "source": [
    "cnfTrain = confusion_matrix(predXTrain,YTrainActual)\n",
    "cnfTest = confusion_matrix(predXTest,YTestActual)"
   ]
  },
  {
   "cell_type": "code",
   "execution_count": 195,
   "metadata": {},
   "outputs": [],
   "source": [
    "# Function ot visualize confusion matrix\n",
    "import itertools\n",
    "def plot_confusion_matrix(cm, classes,\n",
    "                          normalize=False,\n",
    "                          title='Confusion matrix',\n",
    "                          cmap=plt.cm.Blues):\n",
    "    \"\"\"\n",
    "    This function prints and plots the confusion matrix.\n",
    "    Normalization can be applied by setting `normalize=True`.\n",
    "    \"\"\"\n",
    "    if normalize:\n",
    "        cm = cm.astype('float') / cm.sum(axis=1)[:, np.newaxis]\n",
    "        print(\"Normalized confusion matrix\")\n",
    "    else:\n",
    "        print('Confusion matrix, without normalization')\n",
    "\n",
    "    print(cm)\n",
    "\n",
    "    plt.imshow(cm, interpolation='nearest', cmap=cmap)\n",
    "    plt.title(title)\n",
    "    plt.colorbar()\n",
    "    tick_marks = np.arange(len(classes))\n",
    "    plt.xticks(tick_marks, classes, rotation=45)\n",
    "    plt.yticks(tick_marks, classes)\n",
    "\n",
    "    fmt = '.2f' if normalize else 'd'\n",
    "    thresh = cm.max() / 2.\n",
    "    for i, j in itertools.product(range(cm.shape[0]), range(cm.shape[1])):\n",
    "        plt.text(j, i, format(cm[i, j], fmt),\n",
    "                 horizontalalignment=\"center\",\n",
    "                 color=\"white\" if cm[i, j] > thresh else \"black\")\n",
    "\n",
    "    plt.ylabel('True label')\n",
    "    plt.xlabel('Predicted label')\n",
    "    plt.tight_layout()"
   ]
  },
  {
   "cell_type": "code",
   "execution_count": 262,
   "metadata": {},
   "outputs": [
    {
     "name": "stdout",
     "output_type": "stream",
     "text": [
      "Confusion matrix, without normalization\n",
      "[[1467   10   25   71]\n",
      " [   6 1512    2   32]\n",
      " [  13    5 1555   16]\n",
      " [ 114   73   18 1481]]\n"
     ]
    },
    {
     "data": {
      "image/png": "[encoded data removed]",
      "text/plain": [
       "<Figure size 432x288 with 2 Axes>"
      ]
     },
     "metadata": {
      "needs_background": "light"
     },
     "output_type": "display_data"
    }
   ],
   "source": [
    "plot_confusion_matrix(cnfTrain,classes=[0,1,2,3],title=\"Confusion Matrix Train\")"
   ]
  },
  {
   "cell_type": "code",
   "execution_count": 263,
   "metadata": {},
   "outputs": [
    {
     "name": "stdout",
     "output_type": "stream",
     "text": [
      "Confusion matrix, without normalization\n",
      "[[327  11  11  30]\n",
      " [ 10 340   1  24]\n",
      " [ 12   6 374   9]\n",
      " [ 51  43  14 337]]\n"
     ]
    },
    {
     "data": {
      "image/png": "[encoded data removed]",
      "text/plain": [
       "<Figure size 432x288 with 2 Axes>"
      ]
     },
     "metadata": {
      "needs_background": "light"
     },
     "output_type": "display_data"
    }
   ],
   "source": [
    "plot_confusion_matrix(cnfTest,classes=[0,1,2,3],title=\"Confusion Matrix Test\")"
   ]
  },
  {
   "cell_type": "code",
   "execution_count": 264,
   "metadata": {},
   "outputs": [
    {
     "name": "stdout",
     "output_type": "stream",
     "text": [
      "              precision    recall  f1-score   support\n",
      "\n",
      "           0       0.82      0.86      0.84       379\n",
      "           1       0.85      0.91      0.88       375\n",
      "           2       0.94      0.93      0.93       401\n",
      "           3       0.84      0.76      0.80       445\n",
      "\n",
      "   micro avg       0.86      0.86      0.86      1600\n",
      "   macro avg       0.86      0.86      0.86      1600\n",
      "weighted avg       0.86      0.86      0.86      1600\n",
      "\n"
     ]
    }
   ],
   "source": [
    "print(classification_report(predXTest,YTestActual))"
   ]
  },
  {
   "cell_type": "markdown",
   "metadata": {},
   "source": [
    "#### F1-score = 0.86"
   ]
  },
  {
   "cell_type": "markdown",
   "metadata": {},
   "source": [
    "### Generating Submission File"
   ]
  },
  {
   "cell_type": "code",
   "execution_count": 256,
   "metadata": {},
   "outputs": [],
   "source": [
    "# Testing Data\n",
    "with open('test_image.pkl', 'rb') as f:\n",
    "    testData = pickle.load(f)"
   ]
  },
  {
   "cell_type": "code",
   "execution_count": 257,
   "metadata": {},
   "outputs": [
    {
     "name": "stdout",
     "output_type": "stream",
     "text": [
      "(2000, 784)\n"
     ]
    },
    {
     "data": {
      "image/png": "[encoded data removed]",
      "text/plain": [
       "<Figure size 432x288 with 3 Axes>"
      ]
     },
     "metadata": {
      "needs_background": "light"
     },
     "output_type": "display_data"
    }
   ],
   "source": [
    "testData = np.array(testData)\n",
    "print(testData.shape)\n",
    "for i in range(3):\n",
    "    plt.subplot(1,3,i+1)\n",
    "    plt.imshow(testData[i].reshape(28,28))\n",
    "    plt.axis(\"off\")"
   ]
  },
  {
   "cell_type": "code",
   "execution_count": 258,
   "metadata": {},
   "outputs": [
    {
     "name": "stdout",
     "output_type": "stream",
     "text": [
      "(2000, 28, 28, 1)\n"
     ]
    }
   ],
   "source": [
    "XTest = testData.reshape((-1,28,28,1))\n",
    "XTest = XTest/255.0\n",
    "print(XTest.shape)"
   ]
  },
  {
   "cell_type": "code",
   "execution_count": 269,
   "metadata": {},
   "outputs": [],
   "source": [
    "prediction = model.predict_classes(XTest) "
   ]
  },
  {
   "cell_type": "code",
   "execution_count": 273,
   "metadata": {},
   "outputs": [],
   "source": [
    "for i in range (prediction.shape[0]):\n",
    "    if(prediction[i] == 1):\n",
    "        prediction[i] = 2\n",
    "    elif(prediction[i] == 2):\n",
    "        prediction[i] = 3\n",
    "    elif(prediction[i] == 3):\n",
    "        prediction[i] = 6"
   ]
  },
  {
   "cell_type": "code",
   "execution_count": 276,
   "metadata": {},
   "outputs": [
    {
     "data": {
      "text/html": [
       "<div>\n",
       "<style scoped>\n",
       "    .dataframe tbody tr th:only-of-type {\n",
       "        vertical-align: middle;\n",
       "    }\n",
       "\n",
       "    .dataframe tbody tr th {\n",
       "        vertical-align: top;\n",
       "    }\n",
       "\n",
       "    .dataframe thead th {\n",
       "        text-align: right;\n",
       "    }\n",
       "</style>\n",
       "<table border=\"1\" class=\"dataframe\">\n",
       "  <thead>\n",
       "    <tr style=\"text-align: right;\">\n",
       "      <th></th>\n",
       "      <th>Predicted Labels</th>\n",
       "    </tr>\n",
       "  </thead>\n",
       "  <tbody>\n",
       "    <tr>\n",
       "      <th>0</th>\n",
       "      <td>0</td>\n",
       "    </tr>\n",
       "    <tr>\n",
       "      <th>1</th>\n",
       "      <td>0</td>\n",
       "    </tr>\n",
       "    <tr>\n",
       "      <th>2</th>\n",
       "      <td>0</td>\n",
       "    </tr>\n",
       "    <tr>\n",
       "      <th>3</th>\n",
       "      <td>0</td>\n",
       "    </tr>\n",
       "    <tr>\n",
       "      <th>4</th>\n",
       "      <td>0</td>\n",
       "    </tr>\n",
       "  </tbody>\n",
       "</table>\n",
       "</div>"
      ],
      "text/plain": [
       "   Predicted Labels\n",
       "0                 0\n",
       "1                 0\n",
       "2                 0\n",
       "3                 0\n",
       "4                 0"
      ]
     },
     "execution_count": 276,
     "metadata": {},
     "output_type": "execute_result"
    }
   ],
   "source": [
    "predDF = pd.DataFrame(prediction)\n",
    "predDF.columns = ['Predicted Labels']\n",
    "predDF.head()"
   ]
  },
  {
   "cell_type": "code",
   "execution_count": null,
   "metadata": {},
   "outputs": [],
   "source": [
    "predDF.to_csv(\"kapil_gupta.csv\")"
   ]
  },
  {
   "cell_type": "code",
   "execution_count": null,
   "metadata": {},
   "outputs": [],
   "source": []
  }
 ],
 "metadata": {
  "kernelspec": {
   "display_name": "Python 3",
   "language": "python",
   "name": "python3"
  },
  "language_info": {
   "codemirror_mode": {
    "name": "ipython",
    "version": 3
   },
   "file_extension": ".py",
   "mimetype": "text/x-python",
   "name": "python",
   "nbconvert_exporter": "python",
   "pygments_lexer": "ipython3",
   "version": "3.6.8"
  }
 },
 "nbformat": 4,
 "nbformat_minor": 2
}
